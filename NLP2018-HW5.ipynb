{
 "cells": [
  {
   "cell_type": "markdown",
   "metadata": {},
   "source": [
    "# Работа с \"Наташей\" (Домашняя работа 5)\n",
    "\n",
    "#### Сперва все установим и загрузим тексты с лекции"
   ]
  },
  {
   "cell_type": "code",
   "execution_count": 2,
   "metadata": {},
   "outputs": [
    {
     "name": "stdout",
     "output_type": "stream",
     "text": [
      "Collecting natasha\n",
      "\u001b[?25l  Downloading https://files.pythonhosted.org/packages/4b/9d/3330c5a8c98f45a6f090cc8bfaa1132a58ead75cedec5ac758b2999bf34c/natasha-0.10.0-py2.py3-none-any.whl (777kB)\n",
      "\u001b[K    100% |████████████████████████████████| 778kB 26.9MB/s ta 0:00:01\n",
      "\u001b[?25hCollecting yargy (from natasha)\n",
      "\u001b[?25l  Downloading https://files.pythonhosted.org/packages/37/64/d6abf637228bed6b0249b522f588d19dca9f09ab65db13bef41096f51889/yargy-0.12.0-py2.py3-none-any.whl (41kB)\n",
      "\u001b[K    100% |████████████████████████████████| 51kB 33.7MB/s ta 0:00:01\n",
      "\u001b[?25hRequirement already satisfied: pymorphy2==0.8 in /usr/local/lib/python3.6/site-packages (from yargy->natasha) (0.8)\n",
      "Collecting backports.functools-lru-cache==1.3 (from yargy->natasha)\n",
      "  Downloading https://files.pythonhosted.org/packages/d4/40/0b1db94fdfd71353ae67ec444ff28e0a7ecc25212d1cb94c291b6cd226f9/backports.functools_lru_cache-1.3-py2.py3-none-any.whl\n",
      "Requirement already satisfied: dawg-python>=0.7 in /usr/local/lib/python3.6/site-packages (from pymorphy2==0.8->yargy->natasha) (0.7.2)\n",
      "Requirement already satisfied: pymorphy2-dicts<3.0,>=2.4 in /usr/local/lib/python3.6/site-packages (from pymorphy2==0.8->yargy->natasha) (2.4.393442.3710985)\n",
      "Requirement already satisfied: docopt>=0.6 in /usr/local/lib/python3.6/site-packages (from pymorphy2==0.8->yargy->natasha) (0.6.2)\n",
      "Installing collected packages: backports.functools-lru-cache, yargy, natasha\n",
      "Successfully installed backports.functools-lru-cache-1.3 natasha-0.10.0 yargy-0.12.0\n"
     ]
    }
   ],
   "source": [
    "!pip install natasha"
   ]
  },
  {
   "cell_type": "code",
   "execution_count": 3,
   "metadata": {},
   "outputs": [],
   "source": [
    "from natasha import NamesExtractor"
   ]
  },
  {
   "cell_type": "code",
   "execution_count": 5,
   "metadata": {},
   "outputs": [],
   "source": [
    "extractor = NamesExtractor()"
   ]
  },
  {
   "cell_type": "code",
   "execution_count": 11,
   "metadata": {},
   "outputs": [],
   "source": [
    "with open('sents.txt', 'r') as file:\n",
    "    sents = file.readlines()"
   ]
  },
  {
   "cell_type": "markdown",
   "metadata": {},
   "source": [
    "#### Посмотрим, как себя ведет себя Natasha без правил и всего такого\n",
    "\n",
    "Опробуем на первых 10 строках нашей выборки, чтобы не было быльшой выдачи на Git'e"
   ]
  },
  {
   "cell_type": "code",
   "execution_count": 138,
   "metadata": {},
   "outputs": [
    {
     "name": "stdout",
     "output_type": "stream",
     "text": [
      "CPU times: user 360 ms, sys: 0 ns, total: 360 ms\n",
      "Wall time: 357 ms\n"
     ]
    },
    {
     "data": {
      "text/html": [
       "<style>\n",
       "\n",
       ".markup {\n",
       "    white-space: pre-wrap;\n",
       "}\n",
       "\n",
       ".markup > mark {\n",
       "    padding: 0.15em;\n",
       "    border-radius: 0.25em;\n",
       "    border: 1px solid #fdf07c;\n",
       "    background: #ffffc2;\n",
       "}\n",
       "    </style><div class=\"markup tex2jax_ignore\">Напомним, что премьер-министр России <mark>Дмитрий Медведев</mark> подписал изменения в Правилах дорожного движения.\n",
       "\n",
       "В секте Асахары «министр» Ниими слыл страшным человеком.\n",
       "\n",
       "С тайной полицией Асахары был связан еще один из семи этапированных накануне смертников - <mark>Кийохиде</mark> <mark>Хаякава</mark>, «министр созидания».\n",
       "\n",
       "По словам Косуги, накануне «министр» Хаякава в личной беседе поблагодарил его за помощь «Аум» и попросил сделать кое-что для «спасения человечества», а именно - убить шефа полиции Японии.\n",
       "\n",
       "Как только что сообщило немецкое государственное информационное агентство \"Deutsche Welle\", видный немецкий политик от СДПГ, в прошлом премьер-министр земли Бранденбург <mark>Маттиас Платцек</mark>, в интервью радиостанции \"Deutschlandfunk\" в пятницу 16 марта заявил, что по его сведениям лаборатория, которая занималась исследованиями боевых отравляющих веществ в советское время находилась на территории нынешнего Узбекистана.\n",
       "\n",
       "Между тем вице-премьер РМ по евроинтеграции <mark>Юрий</mark> Лянкэ заявил накануне на румынском канале Digi24, что объединение с Румынией - тема, которая становится все более важной в Республике Молдова.\n",
       "\n",
       "Премьер-министр Израиля <mark>Биньямин</mark> <mark>Нетаньяху</mark> и мэр Иерусалима Нир Баркат приняли решение создать правительственную комиссию под руководством министра регионального сотрудничества Цахи Ханегби с участием всех соответствующих сторон для разработки решения вопроса о муниципальных налогах на недвижимость, принадлежащую христианским Церквам и не являющуюся молельными домами.\n",
       "\n",
       "В МИД Израиля «НГР» сообщили, что в рамках дискуссии между администрацией главы правительства и муниципалитетом Иерусалима по этому вопросу премьер-министр и мэр Иерусалима договорились о том, что профессиональная группа во главе с министром Ханегби, в которую войдут представители мэрии израильской столицы, а также министерств финансов, иностранных дел и внутренних дел выработает согласованное решение относительно муниципальных налогов с церковной недвижимости, не являющейся молельными домами.\n",
       "\n",
       "Кроме того, в соответствии с поступившей от глав Церквей просьбой начать переговоры о вопросах, связанных с продажей земельных участков в Иерусалиме, премьер-министр <mark>Нетаньяху</mark> поручил министру Ханегби изучить этот вопрос.\n",
       "\n",
       "Премьер-министр Великобритании <mark>Тереза</mark> <mark>Мэй</mark> в качестве «жесткого ответа» в связи с покушением на двойного агента <mark>Сергея</mark> <mark>Скрипаля</mark> и его дочь <mark>Юлию</mark> вышлет из страны 23 российских дипломата.\n",
       "</div>"
      ],
      "text/plain": [
       "Matches('Напомним, что премьер-министр России Дмитрий Медведев подписал изменения в Правилах дорожного движения.\\n\\nВ секте Асахары «министр» Ниими слыл страшным человеком.\\n\\nС тайной полицией Асахары был связан еще один из семи этапированных накануне смертников - Кийохиде Хаякава, «министр созидания».\\n\\nПо словам Косуги, накануне «министр» Хаякава в личной беседе поблагодарил его за помощь «Аум» и попросил сделать кое-что для «спасения человечества», а именно - убить шефа полиции Японии.\\n\\nКак только что сообщило немецкое государственное информационное агентство \"Deutsche Welle\", видный немецкий политик от СДПГ, в прошлом премьер-министр земли Бранденбург Маттиас Платцек, в интервью радиостанции \"Deutschlandfunk\" в пятницу 16 марта заявил, что по его сведениям лаборатория, которая занималась исследованиями боевых отравляющих веществ в советское время находилась на территории нынешнего Узбекистана.\\n\\nМежду тем вице-премьер РМ по евроинтеграции Юрий Лянкэ заявил накануне на румынском канале Digi24, что объединение с Румынией - тема, которая становится все более важной в Республике Молдова.\\n\\nПремьер-министр Израиля Биньямин Нетаньяху и мэр Иерусалима Нир Баркат приняли решение создать правительственную комиссию под руководством министра регионального сотрудничества Цахи Ханегби с участием всех соответствующих сторон для разработки решения вопроса о муниципальных налогах на недвижимость, принадлежащую христианским Церквам и не являющуюся молельными домами.\\n\\nВ МИД Израиля «НГР» сообщили, что в рамках дискуссии между администрацией главы правительства и муниципалитетом Иерусалима по этому вопросу премьер-министр и мэр Иерусалима договорились о том, что профессиональная группа во главе с министром Ханегби, в которую войдут представители мэрии израильской столицы, а также министерств финансов, иностранных дел и внутренних дел выработает согласованное решение относительно муниципальных налогов с церковной недвижимости, не являющейся молельными домами.\\n\\nКроме того, в соответствии с поступившей от глав Церквей просьбой начать переговоры о вопросах, связанных с продажей земельных участков в Иерусалиме, премьер-министр Нетаньяху поручил министру Ханегби изучить этот вопрос.\\n\\nПремьер-министр Великобритании Тереза Мэй в качестве «жесткого ответа» в связи с покушением на двойного агента Сергея Скрипаля и его дочь Юлию вышлет из страны 23 российских дипломата.\\n',\n",
       "        [Match([MorphTagToken('Дмитрий',\n",
       "                              [37, 44),\n",
       "                              'RU',\n",
       "                              'I',\n",
       "                              [Form('дмитрий',\n",
       "                                    Grams(NOUN,Name,anim,masc,nomn,sing))]),\n",
       "                MorphTagToken('Медведев',\n",
       "                              [45, 53),\n",
       "                              'RU',\n",
       "                              'I',\n",
       "                              [Form('медведев',\n",
       "                                    Grams(NOUN,Sgtm,Surn,anim,masc,nomn,sing))])],\n",
       "               [37, 53)),\n",
       "         Match([MorphTagToken('Кийохиде',\n",
       "                              [253, 261),\n",
       "                              'RU',\n",
       "                              'I',\n",
       "                              [Form('кийохида',\n",
       "                                    Grams(NOUN,Name,anim,datv,femn,sing)),\n",
       "                               Form('кийохида',\n",
       "                                    Grams(NOUN,Name,anim,femn,loct,sing)),\n",
       "                               Form('кийохид',\n",
       "                                    Grams(NOUN,Name,anim,loct,masc,sing))])],\n",
       "               [253, 261)),\n",
       "         Match([MorphTagToken('Хаякава',\n",
       "                              [262, 269),\n",
       "                              'RU',\n",
       "                              'I',\n",
       "                              [Form('хаякава',\n",
       "                                    Grams(NOUN,Sgtm,femn,inan,nomn,sing)),\n",
       "                               Form('хаякава',\n",
       "                                    Grams(NOUN,Name,anim,masc,nomn,sing)),\n",
       "                               Form('хаякавый', Grams(ADJS,Qual,femn,sing)),\n",
       "                               Form('хаякавый', Grams(ADJS,femn,sing))])],\n",
       "               [262, 269)),\n",
       "         Match([MorphTagToken('Маттиас',\n",
       "                              [651, 658),\n",
       "                              'RU',\n",
       "                              'I',\n",
       "                              [Form('маттиас',\n",
       "                                    Grams(NOUN,Name,anim,masc,nomn,sing)),\n",
       "                               Form('маттиас',\n",
       "                                    Grams(NOUN,inan,masc,nomn,sing))]),\n",
       "                MorphTagToken('Платцек',\n",
       "                              [659, 666),\n",
       "                              'RU',\n",
       "                              'I',\n",
       "                              [Form('платцек',\n",
       "                                    Grams(NOUN,Sgtm,Surn,anim,masc,nomn,sing)),\n",
       "                               Form('платцек',\n",
       "                                    Grams(NOUN,Name,anim,masc,nomn,sing))])],\n",
       "               [651, 666)),\n",
       "         Match([MorphTagToken('Юрий',\n",
       "                              [943, 947),\n",
       "                              'RU',\n",
       "                              'I',\n",
       "                              [Form('юрий',\n",
       "                                    Grams(NOUN,Name,anim,masc,nomn,sing))])],\n",
       "               [943, 947)),\n",
       "         Match([MorphTagToken('Биньямин',\n",
       "                              [1116, 1124),\n",
       "                              'RU',\n",
       "                              'I',\n",
       "                              [Form('биньямин',\n",
       "                                    Grams(NOUN,Name,anim,masc,nomn,sing))])],\n",
       "               [1116, 1124)),\n",
       "         Match([MorphTagToken('Нетаньяху',\n",
       "                              [1125, 1134),\n",
       "                              'RU',\n",
       "                              'I',\n",
       "                              [Form('нетаньяха',\n",
       "                                    Grams(NOUN,Name,accs,anim,femn,sing))])],\n",
       "               [1125, 1134)),\n",
       "         Match([MorphTagToken('Нетаньяху',\n",
       "                              [2130, 2139),\n",
       "                              'RU',\n",
       "                              'I',\n",
       "                              [Form('нетаньяха',\n",
       "                                    Grams(NOUN,Name,accs,anim,femn,sing))])],\n",
       "               [2130, 2139)),\n",
       "         Match([MorphTagToken('Тереза',\n",
       "                              [2218, 2224),\n",
       "                              'RU',\n",
       "                              'I',\n",
       "                              [Form('тереза',\n",
       "                                    Grams(NOUN,Name,anim,femn,nomn,sing))])],\n",
       "               [2218, 2224)),\n",
       "         Match([MorphTagToken('Мэй',\n",
       "                              [2225, 2228),\n",
       "                              'RU',\n",
       "                              'I',\n",
       "                              [Form('мэй', Grams(UNKN))])],\n",
       "               [2225, 2228)),\n",
       "         Match([MorphTagToken('Сергея',\n",
       "                              [2298, 2304),\n",
       "                              'RU',\n",
       "                              'I',\n",
       "                              [Form('сергей',\n",
       "                                    Grams(NOUN,Name,anim,gent,masc,sing)),\n",
       "                               Form('сергей',\n",
       "                                    Grams(NOUN,Name,accs,anim,masc,sing))])],\n",
       "               [2298, 2304)),\n",
       "         Match([MorphTagToken('Скрипаля',\n",
       "                              [2305, 2313),\n",
       "                              'RU',\n",
       "                              'I',\n",
       "                              [Form('скрипалить', Grams(GRND,impf,intr,pres)),\n",
       "                               Form('скрипалить', Grams(GRND,impf,pres,tran)),\n",
       "                               Form('скрипаля',\n",
       "                                    Grams(NOUN,Name,anim,femn,nomn,sing)),\n",
       "                               Form('скрипалить',\n",
       "                                    Grams(Fimp,GRND,past,perf,tran))])],\n",
       "               [2305, 2313)),\n",
       "         Match([MorphTagToken('Юлию',\n",
       "                              [2325, 2329),\n",
       "                              'RU',\n",
       "                              'I',\n",
       "                              [Form('юлий',\n",
       "                                    Grams(NOUN,Name,anim,datv,masc,sing)),\n",
       "                               Form('юлия',\n",
       "                                    Grams(NOUN,Name,accs,anim,femn,sing))])],\n",
       "               [2325, 2329))])"
      ]
     },
     "execution_count": 138,
     "metadata": {},
     "output_type": "execute_result"
    }
   ],
   "source": [
    "%%time\n",
    "\n",
    "extractor('\\n'.join(sents[:10]))"
   ]
  },
  {
   "cell_type": "markdown",
   "metadata": {},
   "source": [
    "#### Теперь попробуем написать правила и посмотрим на наш результат."
   ]
  },
  {
   "cell_type": "code",
   "execution_count": 28,
   "metadata": {},
   "outputs": [],
   "source": [
    "from yargy import Parser, rule, or_\n",
    "from yargy.predicates import gram, normalized\n",
    "from yargy.pipelines import morph_pipeline\n",
    "from yargy.interpretation import fact\n",
    "from yargy.tokenizer import MorphTokenizer \n",
    "from IPython.display import display"
   ]
  },
  {
   "cell_type": "code",
   "execution_count": 117,
   "metadata": {},
   "outputs": [],
   "source": [
    "Person = fact(\n",
    "    'Person',\n",
    "    ['position', 'name', 'place']\n",
    ")\n",
    "Name = fact(\n",
    "    'Name',\n",
    "    ['first', 'last', 'patronymic']\n",
    ")\n",
    "\n",
    "POSITION = morph_pipeline([\n",
    "    'премьер министр',\n",
    "    'премьер-министр',\n",
    "    'президент',\n",
    "    'министр',\n",
    "    'министр обороны',\n",
    "    'министр иностранных дел',\n",
    "    'мэр',\n",
    "    'премьер',\n",
    "    'канцлер',\n",
    "    'министр финансов',\n",
    "    'министр регионального развития',\n",
    "    'губернатор',\n",
    "    'глава оргкомитета',\n",
    "    'глава'])\n",
    "\n",
    "NAME = or_(\n",
    "    rule(\n",
    "    gram('Name').interpretation(\n",
    "        Name.first.inflected()\n",
    "    ),\n",
    "    gram('Surn').interpretation(\n",
    "        Name.last.inflected()\n",
    "    ),\n",
    "    gram('Patr').interpretation(\n",
    "        Name.patronymic.inflected()\n",
    "    ).optional()\n",
    ").interpretation(\n",
    "        Name\n",
    "),\n",
    "    rule(\n",
    "    gram('Name').repeatable().interpretation(\n",
    "        Name.last.inflected())\n",
    ").interpretation(\n",
    "        Name\n",
    "))\n",
    "\n",
    "PLACE = rule(\n",
    "        gram('Geox').interpretation(\n",
    "            Person.place.normalized()\n",
    ").optional()\n",
    ")\n",
    "\n",
    "\n",
    "PERSON = rule(\n",
    "    POSITION.interpretation(\n",
    "        Person.position.normalized()\n",
    "    ),\n",
    "    PLACE,\n",
    "    NAME.interpretation(\n",
    "        Person.name\n",
    "    )\n",
    ").interpretation(\n",
    "    Person\n",
    ")\n",
    "\n",
    "parser = Parser(PERSON)"
   ]
  },
  {
   "cell_type": "markdown",
   "metadata": {},
   "source": [
    "#### Запишем все, что сможем найти в список, чтобы померить длинну (нам надо больше 50), а также выведем результат поиска"
   ]
  },
  {
   "cell_type": "code",
   "execution_count": 139,
   "metadata": {},
   "outputs": [
    {
     "name": "stdout",
     "output_type": "stream",
     "text": [
      "CPU times: user 1.66 s, sys: 4 ms, total: 1.66 s\n",
      "Wall time: 1.66 s\n"
     ]
    }
   ],
   "source": [
    "%%time\n",
    "result = []\n",
    "\n",
    "for sent in sents:\n",
    "    for match in parser.findall(sent):\n",
    "        matches.append(match.fact)"
   ]
  },
  {
   "cell_type": "markdown",
   "metadata": {},
   "source": [
    "#### Сколько же мы всего нашли?"
   ]
  },
  {
   "cell_type": "code",
   "execution_count": 119,
   "metadata": {},
   "outputs": [
    {
     "data": {
      "text/plain": [
       "88"
      ]
     },
     "execution_count": 119,
     "metadata": {},
     "output_type": "execute_result"
    }
   ],
   "source": [
    "len(result)"
   ]
  },
  {
   "cell_type": "markdown",
   "metadata": {},
   "source": [
    "#### Отлично, для проверки посмотрим "
   ]
  },
  {
   "cell_type": "code",
   "execution_count": 136,
   "metadata": {},
   "outputs": [
    {
     "name": "stdout",
     "output_type": "stream",
     "text": [
      "\n",
      "    First name:\tдмитрий\n",
      "    Second name:\tмедведев\n",
      "    Patronomic:\tNone\n",
      "    Position:\tпремьер-министр\n",
      "    Place:\tроссия\n",
      "    ________________\n",
      "    \n",
      "\n",
      "    First name:\tNone\n",
      "    Second name:\tизраиль биньямин нетаньяха\n",
      "    Patronomic:\tNone\n",
      "    Position:\tпремьер-министр\n",
      "    Place:\tNone\n",
      "    ________________\n",
      "    \n",
      "\n",
      "    First name:\tNone\n",
      "    Second name:\tнетаньяха\n",
      "    Patronomic:\tNone\n",
      "    Position:\tпремьер-министр\n",
      "    Place:\tNone\n",
      "    ________________\n",
      "    \n",
      "\n",
      "    First name:\tNone\n",
      "    Second name:\tтереза\n",
      "    Patronomic:\tNone\n",
      "    Position:\tпремьер-министр\n",
      "    Place:\tвеликобритания\n",
      "    ________________\n",
      "    \n",
      "\n",
      "    First name:\tNone\n",
      "    Second name:\tалексис ципрас\n",
      "    Patronomic:\tNone\n",
      "    Position:\tпремьер-министр\n",
      "    Place:\tNone\n",
      "    ________________\n",
      "    \n"
     ]
    }
   ],
   "source": [
    "for item in result[:5]:\n",
    "    print(\n",
    "    '''\n",
    "    First name:\\t{}\n",
    "    Second name:\\t{}\n",
    "    Patronomic:\\t{}\n",
    "    Position:\\t{}\n",
    "    Place:\\t{}\n",
    "    ________________\n",
    "    '''.format(item.name.first,\n",
    "               item.name.last,\n",
    "               item.name.patronymic,\n",
    "               item.position,\n",
    "               item.place))"
   ]
  }
 ],
 "metadata": {
  "kernelspec": {
   "display_name": "Python 3",
   "language": "python",
   "name": "python3"
  },
  "language_info": {
   "codemirror_mode": {
    "name": "ipython",
    "version": 3
   },
   "file_extension": ".py",
   "mimetype": "text/x-python",
   "name": "python",
   "nbconvert_exporter": "python",
   "pygments_lexer": "ipython3",
   "version": "3.6.7"
  }
 },
 "nbformat": 4,
 "nbformat_minor": 2
}
