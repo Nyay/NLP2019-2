{
  "nbformat": 4,
  "nbformat_minor": 0,
  "metadata": {
    "colab": {
      "name": "Untitled2.ipynb",
      "version": "0.3.2",
      "provenance": [],
      "collapsed_sections": []
    },
    "kernelspec": {
      "name": "python3",
      "display_name": "Python 3"
    }
  },
  "cells": [
    {
      "metadata": {
        "id": "4RLfEj7rr8qJ",
        "colab_type": "code",
        "colab": {}
      },
      "cell_type": "code",
      "source": [
        "import pandas as pd\n",
        "from lxml import html\n",
        "import numpy as np\n",
        "from matplotlib import pyplot as plt\n",
        "from sklearn.decomposition import TruncatedSVD, NMF, PCA\n",
        "from sklearn.manifold import TSNE\n",
        "from sklearn.feature_extraction.text import TfidfVectorizer, CountVectorizer\n",
        "from sklearn.metrics.pairwise import cosine_distances\n",
        "from sklearn.ensemble import RandomForestClassifier\n",
        "import gensim\n",
        "import numpy as np\n",
        "from sklearn.cluster import MiniBatchKMeans\n",
        "from sklearn.linear_model import LogisticRegression\n",
        "from sklearn.model_selection import train_test_split\n",
        "from sklearn.metrics import classification_report\n",
        "from collections import Counter,defaultdict\n",
        "from string import punctuation\n",
        "import os\n",
        "from nltk.corpus import stopwords\n",
        "from pymorphy2 import MorphAnalyzer\n",
        "%matplotlib inline\n",
        "\n",
        "morph = MorphAnalyzer()\n",
        "punct = punctuation+'«»—…“”*№–'\n",
        "stops = set(stopwords.words('russian'))\n",
        "\n",
        "def normalize(text):\n",
        "    \n",
        "    words = [word.strip(punct) for word in str(text).lower().split()]\n",
        "    words = [morph.parse(word)[0].normal_form for word in words if word and word not in stops]\n",
        "\n",
        "    return ' '.join(words)\n",
        "\n",
        "def tokenize(text):\n",
        "    \n",
        "    words = [word.strip(punct) for word in str(text).lower().split()]\n",
        "\n",
        "    return ' '.join(words)"
      ],
      "execution_count": 0,
      "outputs": []
    },
    {
      "metadata": {
        "id": "s2fmblYssw43",
        "colab_type": "code",
        "colab": {}
      },
      "cell_type": "code",
      "source": [
        "corpus_xml = html.fromstring(open('paraphrases.xml', 'rb').read())\n",
        "texts_1 = []\n",
        "texts_2 = []\n",
        "classes = []\n",
        "\n",
        "for p in corpus_xml.xpath('//paraphrase'):\n",
        "    texts_1.append(p.xpath('./value[@name=\"text_1\"]/text()')[0])\n",
        "    texts_2.append(p.xpath('./value[@name=\"text_2\"]/text()')[0])\n",
        "    classes.append(p.xpath('./value[@name=\"class\"]/text()')[0])\n",
        "    \n",
        "data = pd.DataFrame({'text_1':texts_1, 'text_2':texts_2, 'label':classes})"
      ],
      "execution_count": 0,
      "outputs": []
    },
    {
      "metadata": {
        "id": "H5NcZWOxs4EJ",
        "colab_type": "code",
        "colab": {
          "base_uri": "https://localhost:8080/",
          "height": 51
        },
        "outputId": "ca04cfce-d1ce-4e84-ced6-608409f05726"
      },
      "cell_type": "code",
      "source": [
        "%%time\n",
        "data['text_1_norm'] = data['text_1'].apply(normalize)\n",
        "data['text_2_norm'] = data['text_2'].apply(normalize)"
      ],
      "execution_count": 14,
      "outputs": [
        {
          "output_type": "stream",
          "text": [
            "CPU times: user 19.7 s, sys: 18.6 ms, total: 19.7 s\n",
            "Wall time: 19.7 s\n"
          ],
          "name": "stdout"
        }
      ]
    },
    {
      "metadata": {
        "id": "vNv0x5i2zTxb",
        "colab_type": "text"
      },
      "cell_type": "markdown",
      "source": [
        "Подготовим для обучения тексты с семинара."
      ]
    },
    {
      "metadata": {
        "id": "7oXQcRx3zQRG",
        "colab_type": "code",
        "colab": {
          "base_uri": "https://localhost:8080/",
          "height": 51
        },
        "outputId": "644459ea-cdaf-473f-d78e-096c4eb5f257"
      },
      "cell_type": "code",
      "source": [
        "%%time\n",
        "data_rt = pd.read_csv('news_texts.csv')\n",
        "data_rt.dropna(inplace=True)"
      ],
      "execution_count": 21,
      "outputs": [
        {
          "output_type": "stream",
          "text": [
            "CPU times: user 1.87 s, sys: 283 ms, total: 2.15 s\n",
            "Wall time: 2.15 s\n"
          ],
          "name": "stdout"
        }
      ]
    },
    {
      "metadata": {
        "id": "OlUnKK9i8Grq",
        "colab_type": "code",
        "colab": {
          "base_uri": "https://localhost:8080/",
          "height": 34
        },
        "outputId": "143e7b73-2884-4ec5-b1b9-4bb58d97e41f"
      },
      "cell_type": "code",
      "source": [
        "data_rt.shape"
      ],
      "execution_count": 22,
      "outputs": [
        {
          "output_type": "execute_result",
          "data": {
            "text/plain": [
              "(7212, 2)"
            ]
          },
          "metadata": {
            "tags": []
          },
          "execution_count": 22
        }
      ]
    },
    {
      "metadata": {
        "id": "DXacuE3K8CuV",
        "colab_type": "code",
        "colab": {
          "base_uri": "https://localhost:8080/",
          "height": 51
        },
        "outputId": "378fca03-e738-4565-e7ba-57a8fb80e385"
      },
      "cell_type": "code",
      "source": [
        "%%time\n",
        "data_rt['content_norm'] = data_rt['content'].apply(normalize)"
      ],
      "execution_count": 24,
      "outputs": [
        {
          "output_type": "stream",
          "text": [
            "CPU times: user 16min 35s, sys: 342 ms, total: 16min 35s\n",
            "Wall time: 16min 35s\n"
          ],
          "name": "stdout"
        }
      ]
    },
    {
      "metadata": {
        "id": "o8EG8SFsuXK7",
        "colab_type": "text"
      },
      "cell_type": "markdown",
      "source": [
        "\n",
        "\n",
        "---\n",
        "\n",
        "\n",
        "Для начала преобразуем матрицы с помощью **TfidfVectorizer** и **CountVectorizer**"
      ]
    },
    {
      "metadata": {
        "id": "fG6QmLTGujVX",
        "colab_type": "code",
        "colab": {}
      },
      "cell_type": "code",
      "source": [
        "CV = CountVectorizer(min_df=3, max_df=0.4, max_features=1000)\n",
        "Tfidf = TfidfVectorizer(min_df=3, max_df=0.4, max_features=1000)"
      ],
      "execution_count": 0,
      "outputs": []
    },
    {
      "metadata": {
        "id": "uy3ZVOW5vapp",
        "colab_type": "code",
        "colab": {}
      },
      "cell_type": "code",
      "source": [
        "X = CV.fit_transform(data_rt['content_norm'])\n",
        "\n",
        "X_text_1_CV = CV.fit_transform(data['text_1_norm'])\n",
        "X_text_2_CV = CV.fit_transform(data['text_2_norm'])\n",
        "X_text_1_Tfidf = Tfidf.fit_transform(data['text_1_norm'])\n",
        "X_text_2_Tfidf = Tfidf.fit_transform(data['text_2_norm'])"
      ],
      "execution_count": 0,
      "outputs": []
    },
    {
      "metadata": {
        "id": "4Op9b7FbAXo3",
        "colab_type": "code",
        "colab": {
          "base_uri": "https://localhost:8080/",
          "height": 34
        },
        "outputId": "00d78084-9e0a-4f2c-a9a1-ff877a7fac37"
      },
      "cell_type": "code",
      "source": [
        "y = data['label'].values\n",
        "print(y.shape)"
      ],
      "execution_count": 28,
      "outputs": [
        {
          "output_type": "stream",
          "text": [
            "(7227,)\n"
          ],
          "name": "stdout"
        }
      ]
    },
    {
      "metadata": {
        "id": "3S9s5xNuwbgT",
        "colab_type": "text"
      },
      "cell_type": "markdown",
      "source": [
        "\n",
        "\n",
        "---\n",
        "\n",
        "Теперь начнем работу с моделями.\n",
        "\n",
        "# SVD"
      ]
    },
    {
      "metadata": {
        "id": "nWllyQRextCs",
        "colab_type": "code",
        "colab": {
          "base_uri": "https://localhost:8080/",
          "height": 51
        },
        "outputId": "6556dec5-8558-4e32-9a15-47f277a97819"
      },
      "cell_type": "code",
      "source": [
        "%%time\n",
        "SVD = TruncatedSVD(200)\n",
        "SVD.fit(X)"
      ],
      "execution_count": 26,
      "outputs": [
        {
          "output_type": "stream",
          "text": [
            "CPU times: user 3.56 s, sys: 1.3 s, total: 4.85 s\n",
            "Wall time: 3.1 s\n"
          ],
          "name": "stdout"
        }
      ]
    },
    {
      "metadata": {
        "id": "QcAl7IeaxSnU",
        "colab_type": "code",
        "colab": {
          "base_uri": "https://localhost:8080/",
          "height": 51
        },
        "outputId": "ba2e354c-64d7-40b6-97fc-96a2a89a4d12"
      },
      "cell_type": "code",
      "source": [
        "%%time\n",
        "X_text_SVD_CV = np.concatenate([SVD.transform(X_text_1_CV),\n",
        "                                SVD.transform(X_text_2_CV)],\n",
        "                               axis=1)"
      ],
      "execution_count": 27,
      "outputs": [
        {
          "output_type": "stream",
          "text": [
            "CPU times: user 28.8 ms, sys: 7 µs, total: 28.8 ms\n",
            "Wall time: 32.3 ms\n"
          ],
          "name": "stdout"
        }
      ]
    },
    {
      "metadata": {
        "id": "XBxBHSNWArL6",
        "colab_type": "code",
        "colab": {
          "base_uri": "https://localhost:8080/",
          "height": 51
        },
        "outputId": "5dbebafe-59a3-4c81-9240-4655e6c882e1"
      },
      "cell_type": "code",
      "source": [
        "%%time\n",
        "X_text_SVD_Tfidf = np.concatenate([SVD.transform(X_text_1_Tfidf),\n",
        "                                   SVD.transform(X_text_2_Tfidf)],\n",
        "                                  axis=1)"
      ],
      "execution_count": 29,
      "outputs": [
        {
          "output_type": "stream",
          "text": [
            "CPU times: user 26.1 ms, sys: 1e+03 µs, total: 27.1 ms\n",
            "Wall time: 32 ms\n"
          ],
          "name": "stdout"
        }
      ]
    },
    {
      "metadata": {
        "id": "C1fwSWzzAlPP",
        "colab_type": "text"
      },
      "cell_type": "markdown",
      "source": [
        "# NMF"
      ]
    },
    {
      "metadata": {
        "id": "iwBHEZkFA2Nn",
        "colab_type": "code",
        "colab": {
          "base_uri": "https://localhost:8080/",
          "height": 51
        },
        "outputId": "478ef990-cccb-4593-fc0a-80525fbe4fa9"
      },
      "cell_type": "code",
      "source": [
        "%%time\n",
        "nmf = NMF(200)\n",
        "nmf.fit(X)"
      ],
      "execution_count": 30,
      "outputs": [
        {
          "output_type": "stream",
          "text": [
            "CPU times: user 3min 4s, sys: 35.6 s, total: 3min 39s\n",
            "Wall time: 2min 47s\n"
          ],
          "name": "stdout"
        }
      ]
    },
    {
      "metadata": {
        "id": "aeL4mKeuAnhb",
        "colab_type": "code",
        "colab": {
          "base_uri": "https://localhost:8080/",
          "height": 51
        },
        "outputId": "40df6d13-909b-4e6a-ce4f-0b54e3089510"
      },
      "cell_type": "code",
      "source": [
        "%%time\n",
        "X_text_NMF_CV = np.concatenate([nmf.transform(X_text_1_CV),\n",
        "                                nmf.transform(X_text_2_CV)],\n",
        "                               axis=1)"
      ],
      "execution_count": 32,
      "outputs": [
        {
          "output_type": "stream",
          "text": [
            "CPU times: user 7.3 s, sys: 1.5 s, total: 8.8 s\n",
            "Wall time: 6.67 s\n"
          ],
          "name": "stdout"
        }
      ]
    },
    {
      "metadata": {
        "id": "HI36bxUvCLJj",
        "colab_type": "code",
        "colab": {
          "base_uri": "https://localhost:8080/",
          "height": 51
        },
        "outputId": "8ac69642-21f7-4b47-8455-ef75d49931cb"
      },
      "cell_type": "code",
      "source": [
        "%%time\n",
        "X_text_NMF_Tfidf = np.concatenate([nmf.transform(X_text_1_Tfidf),\n",
        "                                   nmf.transform(X_text_2_Tfidf)],\n",
        "                                  axis=1)"
      ],
      "execution_count": 33,
      "outputs": [
        {
          "output_type": "stream",
          "text": [
            "CPU times: user 7.6 s, sys: 1.69 s, total: 9.29 s\n",
            "Wall time: 7.05 s\n"
          ],
          "name": "stdout"
        }
      ]
    },
    {
      "metadata": {
        "id": "EtMzHueHC89L",
        "colab_type": "text"
      },
      "cell_type": "markdown",
      "source": [
        "# FastText"
      ]
    },
    {
      "metadata": {
        "id": "avQNUNBQC_ZS",
        "colab_type": "code",
        "colab": {
          "base_uri": "https://localhost:8080/",
          "height": 51
        },
        "outputId": "06d0ffd0-3d56-4176-f326-f242a69ed111"
      },
      "cell_type": "code",
      "source": [
        "%%time\n",
        "corpus = [text.split() for text in data_rt['content'].apply(tokenize)]\n",
        "FastText = gensim.models.FastText(corpus,\n",
        "                                  size=50,\n",
        "                                  min_n=4,\n",
        "                                  max_n=8)"
      ],
      "execution_count": 60,
      "outputs": [
        {
          "output_type": "stream",
          "text": [
            "CPU times: user 8min 39s, sys: 1.02 s, total: 8min 40s\n",
            "Wall time: 4min 30s\n"
          ],
          "name": "stdout"
        }
      ]
    },
    {
      "metadata": {
        "id": "hv2irOhlLKH9",
        "colab_type": "code",
        "colab": {
          "base_uri": "https://localhost:8080/",
          "height": 51
        },
        "outputId": "5c9f1f6c-deca-46af-fdc3-620f5c04d099"
      },
      "cell_type": "code",
      "source": [
        "%%time\n",
        "FastTextNorm = gensim.models.FastText([text.split() for text in data_rt['content_norm']],\n",
        "                                      size=50,\n",
        "                                      min_n=4,\n",
        "                                      max_n=8)"
      ],
      "execution_count": 61,
      "outputs": [
        {
          "output_type": "stream",
          "text": [
            "CPU times: user 7min 30s, sys: 857 ms, total: 7min 31s\n",
            "Wall time: 3min 51s\n"
          ],
          "name": "stdout"
        }
      ]
    },
    {
      "metadata": {
        "id": "mHLM1-wTLkhQ",
        "colab_type": "code",
        "colab": {}
      },
      "cell_type": "code",
      "source": [
        "def get_embedding(text, model, dim):\n",
        "    text = text.split()\n",
        "    words = Counter(text)\n",
        "    total = len(text)\n",
        "    vectors = np.zeros((len(words), dim))\n",
        "    \n",
        "    for i,word in enumerate(words):\n",
        "        try:\n",
        "            v = model[word]\n",
        "            vectors[i] = v*(words[word]/total)\n",
        "        except (KeyError, ValueError):\n",
        "            continue\n",
        "    \n",
        "    if vectors.any():\n",
        "        vector = np.average(vectors, axis=0)\n",
        "    else:\n",
        "        vector = np.zeros((dim))\n",
        "    \n",
        "    return vector"
      ],
      "execution_count": 0,
      "outputs": []
    },
    {
      "metadata": {
        "id": "t6EPPe5TFliy",
        "colab_type": "code",
        "colab": {
          "base_uri": "https://localhost:8080/",
          "height": 105
        },
        "outputId": "cfb3f991-69be-403d-bb0f-d8976ed22ac8"
      },
      "cell_type": "code",
      "source": [
        "%%time\n",
        "dim = 50\n",
        "\n",
        "data['text_1_notnorm'] = data['text_1'].apply(tokenize)\n",
        "data['text_2_notnorm'] = data['text_2'].apply(tokenize)\n",
        "\n",
        "X_text_1_ft = np.zeros((len(data['text_1_notnorm']), dim))\n",
        "X_text_2_ft = np.zeros((len(data['text_2_notnorm']), dim))\n",
        "\n",
        "for i, text in enumerate(data['text_1_notnorm'].values):\n",
        "    X_text_1_ft[i] = get_embedding(text, FastText, dim)\n",
        "    \n",
        "for i, text in enumerate(data['text_2_notnorm'].values):\n",
        "    X_text_2_ft[i] = get_embedding(text, FastText, dim)"
      ],
      "execution_count": 162,
      "outputs": [
        {
          "output_type": "stream",
          "text": [
            "/usr/local/lib/python3.6/dist-packages/ipykernel_launcher.py:9: DeprecationWarning: Call to deprecated `__getitem__` (Method will be removed in 4.0.0, use self.wv.__getitem__() instead).\n",
            "  if __name__ == '__main__':\n"
          ],
          "name": "stderr"
        },
        {
          "output_type": "stream",
          "text": [
            "CPU times: user 3.36 s, sys: 48.3 ms, total: 3.41 s\n",
            "Wall time: 3.37 s\n"
          ],
          "name": "stdout"
        }
      ]
    },
    {
      "metadata": {
        "id": "FpLWL0osM1Yl",
        "colab_type": "code",
        "colab": {}
      },
      "cell_type": "code",
      "source": [
        "X_text_FT = np.concatenate([X_text_1_ft, X_text_2_ft], axis=1)"
      ],
      "execution_count": 0,
      "outputs": []
    },
    {
      "metadata": {
        "id": "hXKLaLrDM-I7",
        "colab_type": "code",
        "colab": {
          "base_uri": "https://localhost:8080/",
          "height": 105
        },
        "outputId": "456be384-6a87-4105-a892-b1d9422a2258"
      },
      "cell_type": "code",
      "source": [
        "%%time\n",
        "X_text_1_ft_norm = np.zeros((len(data['text_1_norm']), dim))\n",
        "X_text_2_ft_norm = np.zeros((len(data['text_2_norm']), dim))\n",
        "\n",
        "for i, text in enumerate(data['text_1_norm'].values):\n",
        "    X_text_1_ft_norm[i] = get_embedding(text, FastTextNorm, dim)\n",
        "    \n",
        "for i, text in enumerate(data['text_2_norm'].values):\n",
        "    X_text_2_ft_norm[i] = get_embedding(text, FastTextNorm, dim)"
      ],
      "execution_count": 163,
      "outputs": [
        {
          "output_type": "stream",
          "text": [
            "/usr/local/lib/python3.6/dist-packages/ipykernel_launcher.py:9: DeprecationWarning: Call to deprecated `__getitem__` (Method will be removed in 4.0.0, use self.wv.__getitem__() instead).\n",
            "  if __name__ == '__main__':\n"
          ],
          "name": "stderr"
        },
        {
          "output_type": "stream",
          "text": [
            "CPU times: user 2.19 s, sys: 12 ms, total: 2.2 s\n",
            "Wall time: 2.19 s\n"
          ],
          "name": "stdout"
        }
      ]
    },
    {
      "metadata": {
        "id": "DyOZlqfqNKv8",
        "colab_type": "code",
        "colab": {}
      },
      "cell_type": "code",
      "source": [
        "X_text_FT_NORM = np.concatenate([X_text_1_ft, X_text_2_ft], axis=1)"
      ],
      "execution_count": 0,
      "outputs": []
    },
    {
      "metadata": {
        "id": "jV_KMpvPGZXB",
        "colab_type": "text"
      },
      "cell_type": "markdown",
      "source": [
        "# Word2Vec"
      ]
    },
    {
      "metadata": {
        "id": "i3zX2t-uGbDe",
        "colab_type": "code",
        "colab": {
          "base_uri": "https://localhost:8080/",
          "height": 51
        },
        "outputId": "477dfb32-0ab2-4b06-976b-53d372568f84"
      },
      "cell_type": "code",
      "source": [
        "%%time\n",
        "Word2Vec = gensim.models.Word2Vec([text.split() for text in data_rt['content_norm']],\n",
        "                                  size=50,\n",
        "                                  sg=1)"
      ],
      "execution_count": 46,
      "outputs": [
        {
          "output_type": "stream",
          "text": [
            "CPU times: user 4min 39s, sys: 404 ms, total: 4min 39s\n",
            "Wall time: 2min 21s\n"
          ],
          "name": "stdout"
        }
      ]
    },
    {
      "metadata": {
        "id": "BKa9ofwTIhHw",
        "colab_type": "code",
        "colab": {
          "base_uri": "https://localhost:8080/",
          "height": 105
        },
        "outputId": "3f736b6e-f434-4c61-942f-789d11f6b703"
      },
      "cell_type": "code",
      "source": [
        "%%time\n",
        "dim = 50\n",
        "\n",
        "X_text_1_W2V = np.zeros((len(data['text_1_norm']), dim))\n",
        "X_text_2_W2V = np.zeros((len(data['text_2_norm']), dim))\n",
        "\n",
        "for i, text in enumerate(data['text_1_norm'].values):\n",
        "    X_text_1_W2V[i] = get_embedding(text, Word2Vec, dim)\n",
        "    \n",
        "for i, text in enumerate(data['text_2_norm'].values):\n",
        "    X_text_2_W2V[i] = get_embedding(text, Word2Vec, dim)"
      ],
      "execution_count": 70,
      "outputs": [
        {
          "output_type": "stream",
          "text": [
            "/usr/local/lib/python3.6/dist-packages/ipykernel_launcher.py:9: DeprecationWarning: Call to deprecated `__getitem__` (Method will be removed in 4.0.0, use self.wv.__getitem__() instead).\n",
            "  if __name__ == '__main__':\n"
          ],
          "name": "stderr"
        },
        {
          "output_type": "stream",
          "text": [
            "CPU times: user 1.72 s, sys: 35.4 ms, total: 1.76 s\n",
            "Wall time: 1.72 s\n"
          ],
          "name": "stdout"
        }
      ]
    },
    {
      "metadata": {
        "id": "qYJ3GdKuPxyp",
        "colab_type": "code",
        "colab": {}
      },
      "cell_type": "code",
      "source": [
        "X_text_W2V = np.concatenate([X_text_1_W2V, X_text_2_W2V], axis=1)"
      ],
      "execution_count": 0,
      "outputs": []
    },
    {
      "metadata": {
        "id": "PcnjWwmZP30k",
        "colab_type": "text"
      },
      "cell_type": "markdown",
      "source": [
        "\n",
        "\n",
        "---\n",
        "\n",
        "# Word2vec и FastText с TfIdf"
      ]
    },
    {
      "metadata": {
        "id": "jppHbneLP_HW",
        "colab_type": "code",
        "colab": {
          "base_uri": "https://localhost:8080/",
          "height": 51
        },
        "outputId": "413494c2-57a0-4d44-c3f3-f7be0113a931"
      },
      "cell_type": "code",
      "source": [
        "%%time\n",
        "Tfidf = TfidfVectorizer(min_df=3, max_df=0.4, max_features=1000)\n",
        "\n",
        "Tfidf_matrix = Tfidf.fit_transform(data['text_1_norm'])\n",
        "feature_names = Tfidf.get_feature_names()"
      ],
      "execution_count": 121,
      "outputs": [
        {
          "output_type": "stream",
          "text": [
            "CPU times: user 106 ms, sys: 2.01 ms, total: 108 ms\n",
            "Wall time: 110 ms\n"
          ],
          "name": "stdout"
        }
      ]
    },
    {
      "metadata": {
        "id": "_UxnjdkpQtJ6",
        "colab_type": "code",
        "colab": {}
      },
      "cell_type": "code",
      "source": [
        "def get_score(doc, matrix, features):\n",
        "  d = {}\n",
        "  feature_index = matrix[doc,:].nonzero()[1]\n",
        "  tfidf_scores = zip(feature_index, [matrix[doc, x] for x in feature_index])\n",
        "  for w, s in [(features[i], s) for (i, s) in tfidf_scores]:\n",
        "    d[w] = s\n",
        "  return d\n",
        "\n",
        "def get_embedding_tfidf(text, model, dim, num):\n",
        "    text = text.split()\n",
        "    words = Counter(text)\n",
        "    total = len(text)\n",
        "    vectors = np.zeros((len(words), dim))\n",
        "    scores = get_score(num, Tfidf_matrix, feature_names)\n",
        "    \n",
        "    for i, word in enumerate(words):\n",
        "        try:\n",
        "            v = model[word]\n",
        "            vectors[i] = v*scores[word]\n",
        "        except (KeyError, ValueError):\n",
        "            continue\n",
        "    \n",
        "    if vectors.any():\n",
        "        vector = np.average(vectors, axis=0)\n",
        "    else:\n",
        "        vector = np.zeros((dim))\n",
        "    \n",
        "    return vector"
      ],
      "execution_count": 0,
      "outputs": []
    },
    {
      "metadata": {
        "id": "bV79p9vMou3Y",
        "colab_type": "code",
        "colab": {
          "base_uri": "https://localhost:8080/",
          "height": 88
        },
        "outputId": "e0d97d66-5dcf-40db-ca8b-a1fa9c136cb6"
      },
      "cell_type": "code",
      "source": [
        "%%time\n",
        "dim = 50\n",
        "\n",
        "X_text_1_W2V_TfIdf = np.zeros((len(data['text_1_norm']), dim))\n",
        "X_text_2_W2V_TfIdf = np.zeros((len(data['text_2_norm']), dim))\n",
        "\n",
        "for i, text in enumerate(data['text_1_norm'].values):\n",
        "  X_text_1_W2V_TfIdf[i] = get_embedding_tfidf(text, Word2Vec, dim, i)\n",
        "    \n",
        "for i, text in enumerate(data['text_2_norm'].values):\n",
        "  X_text_2_W2V_TfIdf[i] = get_embedding_tfidf(text, Word2Vec, dim, i)"
      ],
      "execution_count": 129,
      "outputs": [
        {
          "output_type": "stream",
          "text": [
            "/usr/local/lib/python3.6/dist-packages/ipykernel_launcher.py:18: DeprecationWarning: Call to deprecated `__getitem__` (Method will be removed in 4.0.0, use self.wv.__getitem__() instead).\n"
          ],
          "name": "stderr"
        },
        {
          "output_type": "stream",
          "text": [
            "CPU times: user 8.34 s, sys: 7.72 ms, total: 8.35 s\n",
            "Wall time: 8.35 s\n"
          ],
          "name": "stdout"
        }
      ]
    },
    {
      "metadata": {
        "id": "3GCGhr8AFvFV",
        "colab_type": "code",
        "colab": {}
      },
      "cell_type": "code",
      "source": [
        "X_text_W2V_TfIdf = np.concatenate([X_text_1_W2V, X_text_2_W2V], axis=1)"
      ],
      "execution_count": 0,
      "outputs": []
    },
    {
      "metadata": {
        "id": "0WHgd49DFVZt",
        "colab_type": "code",
        "colab": {
          "base_uri": "https://localhost:8080/",
          "height": 51
        },
        "outputId": "3545d0b3-9c3d-4050-f1f1-1f0d1b7e97d3"
      },
      "cell_type": "code",
      "source": [
        "%%time\n",
        "dim = 50\n",
        "\n",
        "X_text_1_ft_tfidf = np.zeros((len(data['text_1_notnorm']), dim))\n",
        "X_text_2_ft_tfidf = np.zeros((len(data['text_2_notnorm']), dim))\n",
        "\n",
        "for i, text in enumerate(data['text_1_notnorm'].values):\n",
        "    X_text_1_ft_tfidf[i] = get_embedding_tfidf(text, FastText, dim, i)\n",
        "    \n",
        "for i, text in enumerate(data['text_2_notnorm'].values):\n",
        "    X_text_2_ft_tfidf[i] = get_embedding_tfidf(text, FastText, dim, i)"
      ],
      "execution_count": 169,
      "outputs": [
        {
          "output_type": "stream",
          "text": [
            "CPU times: user 9.58 s, sys: 12.7 ms, total: 9.6 s\n",
            "Wall time: 9.59 s\n"
          ],
          "name": "stdout"
        }
      ]
    },
    {
      "metadata": {
        "id": "tgj5M52rF1L4",
        "colab_type": "code",
        "colab": {}
      },
      "cell_type": "code",
      "source": [
        "X_text_FT_TfIdf = np.concatenate([X_text_1_ft_tfidf, X_text_2_ft_tfidf], axis=1)"
      ],
      "execution_count": 0,
      "outputs": []
    },
    {
      "metadata": {
        "id": "vRV6rptbFaJV",
        "colab_type": "code",
        "colab": {
          "base_uri": "https://localhost:8080/",
          "height": 88
        },
        "outputId": "a594360c-1768-4a63-fd38-afdfad0a83c2"
      },
      "cell_type": "code",
      "source": [
        "%%time\n",
        "dim = 50\n",
        "\n",
        "X_text_1_ft_NORM_tfidf = np.zeros((len(data['text_1_norm']), dim))\n",
        "X_text_2_ft_NORM_tfidf = np.zeros((len(data['text_2_norm']), dim))\n",
        "\n",
        "for i, text in enumerate(data['text_1_norm'].values):\n",
        "    X_text_1_ft_NORM_tfidf[i] = get_embedding_tfidf(text, FastTextNorm, dim, i)\n",
        "    \n",
        "for i, text in enumerate(data['text_2_norm'].values):\n",
        "    X_text_2_ft_NORM_tfidf[i] = get_embedding_tfidf(text, FastTextNorm, dim, i)"
      ],
      "execution_count": 170,
      "outputs": [
        {
          "output_type": "stream",
          "text": [
            "/usr/local/lib/python3.6/dist-packages/ipykernel_launcher.py:18: DeprecationWarning: Call to deprecated `__getitem__` (Method will be removed in 4.0.0, use self.wv.__getitem__() instead).\n"
          ],
          "name": "stderr"
        },
        {
          "output_type": "stream",
          "text": [
            "CPU times: user 8.92 s, sys: 10.7 ms, total: 8.93 s\n",
            "Wall time: 8.92 s\n"
          ],
          "name": "stdout"
        }
      ]
    },
    {
      "metadata": {
        "id": "sa7_mE0LF4Ru",
        "colab_type": "code",
        "colab": {}
      },
      "cell_type": "code",
      "source": [
        "X_text_W2V_NORM_TfIdf = np.concatenate([X_text_1_ft_tfidf, X_text_2_ft_tfidf], axis=1)"
      ],
      "execution_count": 0,
      "outputs": []
    },
    {
      "metadata": {
        "id": "om0ECraxGM4p",
        "colab_type": "text"
      },
      "cell_type": "markdown",
      "source": [
        "\n",
        "\n",
        "---\n",
        "\n",
        "Все вектора построенные, теперь начинаем считать косинусную близость...\n",
        "# Косинусная близость текстов\n",
        "\n",
        "Создадим датафрейм, в котором будем хранить всю информацию.\n"
      ]
    },
    {
      "metadata": {
        "id": "kVoYrEOEHAKW",
        "colab_type": "code",
        "colab": {}
      },
      "cell_type": "code",
      "source": [
        "research = data[['text_1','text_2']]"
      ],
      "execution_count": 0,
      "outputs": []
    },
    {
      "metadata": {
        "id": "hqW6aZVXMxyb",
        "colab_type": "code",
        "colab": {}
      },
      "cell_type": "code",
      "source": [
        "from sklearn.metrics.pairwise import cosine_similarity as cs"
      ],
      "execution_count": 0,
      "outputs": []
    },
    {
      "metadata": {
        "id": "uXlU2yaAMzyF",
        "colab_type": "code",
        "colab": {}
      },
      "cell_type": "code",
      "source": [
        "research['FastText'] = [cs([X_text_1_ft[i]],\n",
        "                           [X_text_2_ft[i]])[0, 0] for i in range(len(X_text_1_ft))]\n",
        "research['FastText + norm'] = [cs([X_text_1_ft_norm[i]],\n",
        "                                  [X_text_2_ft_norm[i]])[0, 0] for i in range(len(X_text_1_ft_norm))]\n",
        "research['FastText + tfidf'] = [cs([X_text_1_ft_tfidf[i]],\n",
        "                                   [X_text_2_ft_tfidf[i]])[0, 0] for i in range(len(X_text_1_ft_tfidf))]\n",
        "research['FastText + norm + tfidf'] = [cs([X_text_1_ft_NORM_tfidf[i]],\n",
        "                                          [X_text_2_ft_NORM_tfidf[i]])[0, 0] for i in range(len(X_text_1_ft_NORM_tfidf))]"
      ],
      "execution_count": 0,
      "outputs": []
    },
    {
      "metadata": {
        "id": "7DDyTMIfQOT9",
        "colab_type": "code",
        "colab": {}
      },
      "cell_type": "code",
      "source": [
        "research['Word2Vec'] = [cs([X_text_1_W2V[i]],\n",
        "                           [X_text_2_W2V[i]])[0, 0] for i in range(len(X_text_1_W2V))]\n",
        "research['Word2Vec + tfidf'] = [cs([X_text_1_W2V_TfIdf[i]],\n",
        "                                   [X_text_2_W2V_TfIdf[i]])[0, 0] for i in range(len(X_text_1_W2V_TfIdf))]"
      ],
      "execution_count": 0,
      "outputs": []
    },
    {
      "metadata": {
        "id": "v9REvmwGQj0m",
        "colab_type": "code",
        "colab": {
          "base_uri": "https://localhost:8080/",
          "height": 51
        },
        "outputId": "68a7367b-bc9f-4dce-b166-371389e5a076"
      },
      "cell_type": "code",
      "source": [
        "%%time\n",
        "\n",
        "X_nmf_1_CV = nmf.transform(X_text_1_CV)\n",
        "X_nmf_2_CV = nmf.transform(X_text_2_CV)\n",
        "\n",
        "X_nmf_1_TfIDF = nmf.transform(X_text_1_Tfidf)\n",
        "X_nmf_2_TfIDF = nmf.transform(X_text_2_Tfidf)\n",
        "\n",
        "X_SVD_1_CV = SVD.transform(X_text_1_CV)\n",
        "X_SVD_2_CV = SVD.transform(X_text_2_CV)\n",
        "\n",
        "X_SVD_1_TfIDF = SVD.transform(X_text_1_Tfidf)\n",
        "X_SVD_2_TfIDF = SVD.transform(X_text_2_Tfidf)"
      ],
      "execution_count": 181,
      "outputs": [
        {
          "output_type": "stream",
          "text": [
            "CPU times: user 15.2 s, sys: 3.15 s, total: 18.4 s\n",
            "Wall time: 14 s\n"
          ],
          "name": "stdout"
        }
      ]
    },
    {
      "metadata": {
        "id": "7X1B3Wu5Smi0",
        "colab_type": "code",
        "colab": {}
      },
      "cell_type": "code",
      "source": [
        "research['NMF + CountVect'] = [cs([X_nmf_1_CV[i]],\n",
        "                                  [X_nmf_2_CV[i]])[0, 0] for i in range(len(X_nmf_2_CV))]\n",
        "research['NMF + TfIDF'] = [cs([X_nmf_1_TfIDF[i]],\n",
        "                              [X_nmf_2_TfIDF[i]])[0, 0] for i in range(len(X_nmf_1_TfIDF))]\n",
        "research['SVD + CountVect'] = [cs([X_SVD_1_CV[i]],\n",
        "                                  [X_SVD_2_CV[i]])[0, 0] for i in range(len(X_SVD_2_CV))]\n",
        "research['SVD + TfIDF'] = [cs([X_SVD_1_TfIDF[i]],\n",
        "                              [X_SVD_2_TfIDF[i]])[0, 0] for i in range(len(X_SVD_1_TfIDF))]"
      ],
      "execution_count": 0,
      "outputs": []
    },
    {
      "metadata": {
        "id": "5-rADbV5T1rm",
        "colab_type": "code",
        "colab": {
          "base_uri": "https://localhost:8080/",
          "height": 5253
        },
        "outputId": "2cccfb15-d4a0-4793-82ea-2f50617c3d5c"
      },
      "cell_type": "code",
      "source": [
        "research"
      ],
      "execution_count": 183,
      "outputs": [
        {
          "output_type": "execute_result",
          "data": {
            "text/html": [
              "<div>\n",
              "<style scoped>\n",
              "    .dataframe tbody tr th:only-of-type {\n",
              "        vertical-align: middle;\n",
              "    }\n",
              "\n",
              "    .dataframe tbody tr th {\n",
              "        vertical-align: top;\n",
              "    }\n",
              "\n",
              "    .dataframe thead th {\n",
              "        text-align: right;\n",
              "    }\n",
              "</style>\n",
              "<table border=\"1\" class=\"dataframe\">\n",
              "  <thead>\n",
              "    <tr style=\"text-align: right;\">\n",
              "      <th></th>\n",
              "      <th>text_1</th>\n",
              "      <th>text_2</th>\n",
              "      <th>FastText</th>\n",
              "      <th>FastText + norm</th>\n",
              "      <th>FastText + tfidf</th>\n",
              "      <th>FastText + norm + tfidf</th>\n",
              "      <th>Word2Vec</th>\n",
              "      <th>Word2Vec + tfidf</th>\n",
              "      <th>NMF + CountVect</th>\n",
              "      <th>NMF + TfIDF</th>\n",
              "      <th>SVD + CountVect</th>\n",
              "      <th>SVD + TfIDF</th>\n",
              "    </tr>\n",
              "  </thead>\n",
              "  <tbody>\n",
              "    <tr>\n",
              "      <th>0</th>\n",
              "      <td>Полицейским разрешат стрелять на поражение по ...</td>\n",
              "      <td>Полиции могут разрешить стрелять по хулиганам ...</td>\n",
              "      <td>0.903937</td>\n",
              "      <td>0.748972</td>\n",
              "      <td>0.000000</td>\n",
              "      <td>0.719774</td>\n",
              "      <td>0.916304</td>\n",
              "      <td>0.746971</td>\n",
              "      <td>0.033658</td>\n",
              "      <td>0.027016</td>\n",
              "      <td>0.036417</td>\n",
              "      <td>0.035394</td>\n",
              "    </tr>\n",
              "    <tr>\n",
              "      <th>1</th>\n",
              "      <td>Право полицейских на проникновение в жилище ре...</td>\n",
              "      <td>Правила внесудебного проникновения полицейских...</td>\n",
              "      <td>0.908481</td>\n",
              "      <td>0.796095</td>\n",
              "      <td>0.000000</td>\n",
              "      <td>0.515567</td>\n",
              "      <td>0.914820</td>\n",
              "      <td>0.624405</td>\n",
              "      <td>0.017846</td>\n",
              "      <td>0.010989</td>\n",
              "      <td>0.065024</td>\n",
              "      <td>0.035315</td>\n",
              "    </tr>\n",
              "    <tr>\n",
              "      <th>2</th>\n",
              "      <td>Президент Египта ввел чрезвычайное положение в...</td>\n",
              "      <td>Власти Египта угрожают ввести в стране чрезвыч...</td>\n",
              "      <td>0.947987</td>\n",
              "      <td>0.843157</td>\n",
              "      <td>0.301490</td>\n",
              "      <td>0.685917</td>\n",
              "      <td>0.957996</td>\n",
              "      <td>0.919444</td>\n",
              "      <td>0.003285</td>\n",
              "      <td>0.004981</td>\n",
              "      <td>-0.001936</td>\n",
              "      <td>-0.000580</td>\n",
              "    </tr>\n",
              "    <tr>\n",
              "      <th>3</th>\n",
              "      <td>Вернувшихся из Сирии россиян волнует вопрос тр...</td>\n",
              "      <td>Самолеты МЧС вывезут россиян из разрушенной Си...</td>\n",
              "      <td>0.806719</td>\n",
              "      <td>0.624598</td>\n",
              "      <td>0.000000</td>\n",
              "      <td>0.792143</td>\n",
              "      <td>0.735428</td>\n",
              "      <td>0.874066</td>\n",
              "      <td>0.000135</td>\n",
              "      <td>0.000144</td>\n",
              "      <td>0.017314</td>\n",
              "      <td>0.005992</td>\n",
              "    </tr>\n",
              "    <tr>\n",
              "      <th>4</th>\n",
              "      <td>В Москву из Сирии вернулись 2 самолета МЧС с р...</td>\n",
              "      <td>Самолеты МЧС вывезут россиян из разрушенной Си...</td>\n",
              "      <td>0.415907</td>\n",
              "      <td>0.680341</td>\n",
              "      <td>1.000000</td>\n",
              "      <td>0.924508</td>\n",
              "      <td>0.916776</td>\n",
              "      <td>0.953417</td>\n",
              "      <td>0.002878</td>\n",
              "      <td>0.002725</td>\n",
              "      <td>0.017767</td>\n",
              "      <td>0.004108</td>\n",
              "    </tr>\n",
              "    <tr>\n",
              "      <th>5</th>\n",
              "      <td>Приставы соберут отпечатки пальцев российских ...</td>\n",
              "      <td>Приставы снимут отпечатки пальцев у злостных н...</td>\n",
              "      <td>0.043207</td>\n",
              "      <td>0.780682</td>\n",
              "      <td>0.000000</td>\n",
              "      <td>0.000000</td>\n",
              "      <td>0.929455</td>\n",
              "      <td>0.000000</td>\n",
              "      <td>0.054164</td>\n",
              "      <td>0.054164</td>\n",
              "      <td>-0.014344</td>\n",
              "      <td>-0.014344</td>\n",
              "    </tr>\n",
              "    <tr>\n",
              "      <th>6</th>\n",
              "      <td>На саратовского дебошира с борта самолета Моск...</td>\n",
              "      <td>Саратовский дебошир отказывается возвращаться ...</td>\n",
              "      <td>-0.092899</td>\n",
              "      <td>0.440541</td>\n",
              "      <td>0.000000</td>\n",
              "      <td>0.000000</td>\n",
              "      <td>0.800890</td>\n",
              "      <td>0.000000</td>\n",
              "      <td>0.000000</td>\n",
              "      <td>0.000000</td>\n",
              "      <td>0.018371</td>\n",
              "      <td>0.021710</td>\n",
              "    </tr>\n",
              "    <tr>\n",
              "      <th>7</th>\n",
              "      <td>ЦИК хочет отказаться от электронной системы по...</td>\n",
              "      <td>ЦИК может отказаться от электронных средств по...</td>\n",
              "      <td>0.966421</td>\n",
              "      <td>0.882176</td>\n",
              "      <td>1.000000</td>\n",
              "      <td>0.712880</td>\n",
              "      <td>0.975740</td>\n",
              "      <td>0.930758</td>\n",
              "      <td>0.013333</td>\n",
              "      <td>0.017608</td>\n",
              "      <td>0.069326</td>\n",
              "      <td>0.070226</td>\n",
              "    </tr>\n",
              "    <tr>\n",
              "      <th>8</th>\n",
              "      <td>Суд Петербурга оставил на потом дело о гибели ...</td>\n",
              "      <td>Лондонский Гайд-парк - это не место для митинг...</td>\n",
              "      <td>-0.225135</td>\n",
              "      <td>0.163077</td>\n",
              "      <td>0.000000</td>\n",
              "      <td>0.000000</td>\n",
              "      <td>0.683256</td>\n",
              "      <td>0.000000</td>\n",
              "      <td>0.059383</td>\n",
              "      <td>0.052727</td>\n",
              "      <td>0.081142</td>\n",
              "      <td>0.081341</td>\n",
              "    </tr>\n",
              "    <tr>\n",
              "      <th>9</th>\n",
              "      <td>Страны ОПЕК сократили добычу нефти на 1 млн ба...</td>\n",
              "      <td>Обама продлил полномочия НАСА по сотрудничеств...</td>\n",
              "      <td>-0.162089</td>\n",
              "      <td>0.107350</td>\n",
              "      <td>0.000000</td>\n",
              "      <td>0.000000</td>\n",
              "      <td>0.671823</td>\n",
              "      <td>0.000000</td>\n",
              "      <td>0.002369</td>\n",
              "      <td>0.005728</td>\n",
              "      <td>-0.036375</td>\n",
              "      <td>-0.050874</td>\n",
              "    </tr>\n",
              "    <tr>\n",
              "      <th>10</th>\n",
              "      <td>Москвичи смогут забронировать в Интернете мест...</td>\n",
              "      <td>В Москве можно будет забронировать место на кл...</td>\n",
              "      <td>0.966286</td>\n",
              "      <td>0.819203</td>\n",
              "      <td>0.951235</td>\n",
              "      <td>0.833650</td>\n",
              "      <td>0.937226</td>\n",
              "      <td>0.954522</td>\n",
              "      <td>0.023873</td>\n",
              "      <td>0.021060</td>\n",
              "      <td>0.100362</td>\n",
              "      <td>0.111492</td>\n",
              "    </tr>\n",
              "    <tr>\n",
              "      <th>11</th>\n",
              "      <td>Въезд в центр Москвы автомобилям с двигателями...</td>\n",
              "      <td>Сборная России пробилась в плей-офф чемпионата...</td>\n",
              "      <td>0.723057</td>\n",
              "      <td>-0.074792</td>\n",
              "      <td>0.000000</td>\n",
              "      <td>0.000000</td>\n",
              "      <td>0.401837</td>\n",
              "      <td>0.000000</td>\n",
              "      <td>0.000828</td>\n",
              "      <td>0.001643</td>\n",
              "      <td>-0.026642</td>\n",
              "      <td>-0.027255</td>\n",
              "    </tr>\n",
              "    <tr>\n",
              "      <th>12</th>\n",
              "      <td>В Подмосковье произошел пожар на железной дороге.</td>\n",
              "      <td>В Подмосковье загорелись цистерны с бензином.</td>\n",
              "      <td>0.449184</td>\n",
              "      <td>0.805202</td>\n",
              "      <td>0.943520</td>\n",
              "      <td>0.649327</td>\n",
              "      <td>0.869995</td>\n",
              "      <td>0.875935</td>\n",
              "      <td>0.010617</td>\n",
              "      <td>0.008491</td>\n",
              "      <td>0.007372</td>\n",
              "      <td>0.003644</td>\n",
              "    </tr>\n",
              "    <tr>\n",
              "      <th>13</th>\n",
              "      <td>Северокорейский лидер впервые за 19 лет поздра...</td>\n",
              "      <td>Лидер КНДР впервые за 19 лет поздравил согражд...</td>\n",
              "      <td>0.996379</td>\n",
              "      <td>0.991027</td>\n",
              "      <td>1.000000</td>\n",
              "      <td>0.991733</td>\n",
              "      <td>0.990327</td>\n",
              "      <td>0.963244</td>\n",
              "      <td>0.096355</td>\n",
              "      <td>0.075515</td>\n",
              "      <td>0.033949</td>\n",
              "      <td>0.028126</td>\n",
              "    </tr>\n",
              "    <tr>\n",
              "      <th>14</th>\n",
              "      <td>Мужчина из Подмосковья случайно убил жену в Но...</td>\n",
              "      <td>Житель Подмосковья случайно убил жену на новог...</td>\n",
              "      <td>0.382474</td>\n",
              "      <td>0.340715</td>\n",
              "      <td>0.000000</td>\n",
              "      <td>0.482490</td>\n",
              "      <td>0.907203</td>\n",
              "      <td>0.935612</td>\n",
              "      <td>0.304327</td>\n",
              "      <td>0.309574</td>\n",
              "      <td>-0.046316</td>\n",
              "      <td>-0.054481</td>\n",
              "    </tr>\n",
              "    <tr>\n",
              "      <th>15</th>\n",
              "      <td>Избежать \"фискального обрыва\": Сенат США подде...</td>\n",
              "      <td>Сенат США не допустит \"фискального обрыва\".</td>\n",
              "      <td>0.678180</td>\n",
              "      <td>0.926985</td>\n",
              "      <td>1.000000</td>\n",
              "      <td>0.914077</td>\n",
              "      <td>0.934876</td>\n",
              "      <td>0.875404</td>\n",
              "      <td>0.006434</td>\n",
              "      <td>0.013342</td>\n",
              "      <td>0.008807</td>\n",
              "      <td>0.031765</td>\n",
              "    </tr>\n",
              "    <tr>\n",
              "      <th>16</th>\n",
              "      <td>\"Фискальный обрыв\" в США временно предотвращен.</td>\n",
              "      <td>Сенат США не допустит \"фискального обрыва\".</td>\n",
              "      <td>0.167885</td>\n",
              "      <td>0.947099</td>\n",
              "      <td>1.000000</td>\n",
              "      <td>1.000000</td>\n",
              "      <td>0.885686</td>\n",
              "      <td>1.000000</td>\n",
              "      <td>0.002506</td>\n",
              "      <td>0.004066</td>\n",
              "      <td>-0.005712</td>\n",
              "      <td>-0.004493</td>\n",
              "    </tr>\n",
              "    <tr>\n",
              "      <th>17</th>\n",
              "      <td>Житель Украины расстрелял посетителей кафе.</td>\n",
              "      <td>На Украине мужчина через окно расстрелял посет...</td>\n",
              "      <td>0.349426</td>\n",
              "      <td>0.840165</td>\n",
              "      <td>0.000000</td>\n",
              "      <td>0.662652</td>\n",
              "      <td>0.940645</td>\n",
              "      <td>0.757043</td>\n",
              "      <td>0.008417</td>\n",
              "      <td>0.006908</td>\n",
              "      <td>0.885597</td>\n",
              "      <td>0.806293</td>\n",
              "    </tr>\n",
              "    <tr>\n",
              "      <th>18</th>\n",
              "      <td>В Кот-Д`Ивуаре десятки человек погибли в давке...</td>\n",
              "      <td>В давке у стадиона в Кот-д’Ивуаре погибли 60 ч...</td>\n",
              "      <td>0.797515</td>\n",
              "      <td>0.897911</td>\n",
              "      <td>1.000000</td>\n",
              "      <td>0.910363</td>\n",
              "      <td>0.901233</td>\n",
              "      <td>0.919614</td>\n",
              "      <td>0.001491</td>\n",
              "      <td>0.000668</td>\n",
              "      <td>-0.010905</td>\n",
              "      <td>-0.003585</td>\n",
              "    </tr>\n",
              "    <tr>\n",
              "      <th>19</th>\n",
              "      <td>В Абхазии отомстили за Деда Хасана.</td>\n",
              "      <td>В Абхазии убили врага Деда Хасана.</td>\n",
              "      <td>0.823388</td>\n",
              "      <td>0.799889</td>\n",
              "      <td>0.000000</td>\n",
              "      <td>0.000000</td>\n",
              "      <td>0.949779</td>\n",
              "      <td>0.000000</td>\n",
              "      <td>0.000000</td>\n",
              "      <td>0.000000</td>\n",
              "      <td>0.000000</td>\n",
              "      <td>0.000000</td>\n",
              "    </tr>\n",
              "    <tr>\n",
              "      <th>20</th>\n",
              "      <td>Чечня попросила националистов составить кодекс...</td>\n",
              "      <td>Националисты помогут Чечне составить кодекс по...</td>\n",
              "      <td>0.888476</td>\n",
              "      <td>0.903393</td>\n",
              "      <td>0.997075</td>\n",
              "      <td>0.934242</td>\n",
              "      <td>0.977676</td>\n",
              "      <td>0.960209</td>\n",
              "      <td>0.013566</td>\n",
              "      <td>0.016603</td>\n",
              "      <td>0.009066</td>\n",
              "      <td>0.010906</td>\n",
              "    </tr>\n",
              "    <tr>\n",
              "      <th>21</th>\n",
              "      <td>В новогоднюю ночь во Франции сожгли больше тыс...</td>\n",
              "      <td>В новогоднюю ночь во Франции сожгли 1193 автом...</td>\n",
              "      <td>0.988234</td>\n",
              "      <td>0.821984</td>\n",
              "      <td>0.000000</td>\n",
              "      <td>0.228173</td>\n",
              "      <td>0.964649</td>\n",
              "      <td>0.676988</td>\n",
              "      <td>0.173673</td>\n",
              "      <td>0.153810</td>\n",
              "      <td>0.372431</td>\n",
              "      <td>0.332284</td>\n",
              "    </tr>\n",
              "    <tr>\n",
              "      <th>22</th>\n",
              "      <td>В Анголе в давке во время церковной службы пог...</td>\n",
              "      <td>В ходе давки на церковной службе в Анголе поги...</td>\n",
              "      <td>0.922759</td>\n",
              "      <td>0.888968</td>\n",
              "      <td>0.753395</td>\n",
              "      <td>0.905522</td>\n",
              "      <td>0.992354</td>\n",
              "      <td>0.978151</td>\n",
              "      <td>0.066112</td>\n",
              "      <td>0.052674</td>\n",
              "      <td>0.163125</td>\n",
              "      <td>0.175716</td>\n",
              "    </tr>\n",
              "    <tr>\n",
              "      <th>23</th>\n",
              "      <td>Morgan Stanley взял на работу бывшего зампреда...</td>\n",
              "      <td>Бывший глава ФСФР нашел работу в Morgan Stanley.</td>\n",
              "      <td>0.535986</td>\n",
              "      <td>0.668333</td>\n",
              "      <td>0.331385</td>\n",
              "      <td>0.723577</td>\n",
              "      <td>0.921021</td>\n",
              "      <td>0.854086</td>\n",
              "      <td>0.016843</td>\n",
              "      <td>0.023231</td>\n",
              "      <td>0.041557</td>\n",
              "      <td>0.054756</td>\n",
              "    </tr>\n",
              "    <tr>\n",
              "      <th>24</th>\n",
              "      <td>Конгресс США утвердил план по предотвращению \"...</td>\n",
              "      <td>Палата представителей утвердила план предотвра...</td>\n",
              "      <td>0.536661</td>\n",
              "      <td>0.747227</td>\n",
              "      <td>0.670250</td>\n",
              "      <td>0.756825</td>\n",
              "      <td>0.954030</td>\n",
              "      <td>0.902117</td>\n",
              "      <td>0.001818</td>\n",
              "      <td>0.001676</td>\n",
              "      <td>-0.000045</td>\n",
              "      <td>0.003386</td>\n",
              "    </tr>\n",
              "    <tr>\n",
              "      <th>25</th>\n",
              "      <td>Счетная палата проверит Газпром на непрофильны...</td>\n",
              "      <td>Счетная палата проверит \"Газпром\" впервые за п...</td>\n",
              "      <td>0.275798</td>\n",
              "      <td>0.511253</td>\n",
              "      <td>1.000000</td>\n",
              "      <td>1.000000</td>\n",
              "      <td>0.919231</td>\n",
              "      <td>1.000000</td>\n",
              "      <td>0.079474</td>\n",
              "      <td>0.092842</td>\n",
              "      <td>0.289329</td>\n",
              "      <td>0.318313</td>\n",
              "    </tr>\n",
              "    <tr>\n",
              "      <th>26</th>\n",
              "      <td>Новые комиксы о пророке Мухаммеде появились во...</td>\n",
              "      <td>Во Франции издали комикс по мотивам жизни прор...</td>\n",
              "      <td>0.405803</td>\n",
              "      <td>0.467766</td>\n",
              "      <td>0.000000</td>\n",
              "      <td>0.476030</td>\n",
              "      <td>0.885622</td>\n",
              "      <td>0.736034</td>\n",
              "      <td>0.959317</td>\n",
              "      <td>0.957673</td>\n",
              "      <td>0.886014</td>\n",
              "      <td>0.881331</td>\n",
              "    </tr>\n",
              "    <tr>\n",
              "      <th>27</th>\n",
              "      <td>Число убитых в ходе конфликта в Сирии превысил...</td>\n",
              "      <td>В ходе сирийского конфликта погибли 60 тысяч ч...</td>\n",
              "      <td>0.962527</td>\n",
              "      <td>0.942095</td>\n",
              "      <td>0.912297</td>\n",
              "      <td>0.915030</td>\n",
              "      <td>0.963431</td>\n",
              "      <td>0.958226</td>\n",
              "      <td>0.163575</td>\n",
              "      <td>0.258304</td>\n",
              "      <td>0.254770</td>\n",
              "      <td>0.348490</td>\n",
              "    </tr>\n",
              "    <tr>\n",
              "      <th>28</th>\n",
              "      <td>В США скончалась звезда эстрады 1950-х Патти П...</td>\n",
              "      <td>Скончалась американская певица Патти Пейдж.</td>\n",
              "      <td>0.278898</td>\n",
              "      <td>0.486383</td>\n",
              "      <td>0.000000</td>\n",
              "      <td>0.088673</td>\n",
              "      <td>0.858752</td>\n",
              "      <td>0.749650</td>\n",
              "      <td>0.006081</td>\n",
              "      <td>0.004725</td>\n",
              "      <td>0.037205</td>\n",
              "      <td>0.038284</td>\n",
              "    </tr>\n",
              "    <tr>\n",
              "      <th>29</th>\n",
              "      <td>Сенат США единогласно осудил \"закон Димы Яковл...</td>\n",
              "      <td>Сенат США единогласно осудил запрет на усыновл...</td>\n",
              "      <td>0.662021</td>\n",
              "      <td>0.939335</td>\n",
              "      <td>0.902931</td>\n",
              "      <td>0.892283</td>\n",
              "      <td>0.945955</td>\n",
              "      <td>0.973282</td>\n",
              "      <td>0.016684</td>\n",
              "      <td>0.039013</td>\n",
              "      <td>0.051114</td>\n",
              "      <td>0.050566</td>\n",
              "    </tr>\n",
              "    <tr>\n",
              "      <th>...</th>\n",
              "      <td>...</td>\n",
              "      <td>...</td>\n",
              "      <td>...</td>\n",
              "      <td>...</td>\n",
              "      <td>...</td>\n",
              "      <td>...</td>\n",
              "      <td>...</td>\n",
              "      <td>...</td>\n",
              "      <td>...</td>\n",
              "      <td>...</td>\n",
              "      <td>...</td>\n",
              "      <td>...</td>\n",
              "    </tr>\n",
              "    <tr>\n",
              "      <th>7197</th>\n",
              "      <td>Вертолет с 11 иностранцами на борту упал в Пак...</td>\n",
              "      <td>В Пакистане разбился вертолет с иностранными д...</td>\n",
              "      <td>0.910531</td>\n",
              "      <td>0.397236</td>\n",
              "      <td>0.000000</td>\n",
              "      <td>0.663258</td>\n",
              "      <td>0.849769</td>\n",
              "      <td>0.813016</td>\n",
              "      <td>0.005415</td>\n",
              "      <td>0.005543</td>\n",
              "      <td>-0.005825</td>\n",
              "      <td>-0.005867</td>\n",
              "    </tr>\n",
              "    <tr>\n",
              "      <th>7198</th>\n",
              "      <td>Лидер британских лейбористов сохранил место в ...</td>\n",
              "      <td>Газета The Times сообщила об отставке лидера б...</td>\n",
              "      <td>0.192428</td>\n",
              "      <td>0.130342</td>\n",
              "      <td>0.000000</td>\n",
              "      <td>0.764287</td>\n",
              "      <td>0.761984</td>\n",
              "      <td>0.878437</td>\n",
              "      <td>0.135847</td>\n",
              "      <td>0.131406</td>\n",
              "      <td>-0.005929</td>\n",
              "      <td>-0.005245</td>\n",
              "    </tr>\n",
              "    <tr>\n",
              "      <th>7199</th>\n",
              "      <td>Exit poll: консерваторы лидируют на выборах в ...</td>\n",
              "      <td>Консерваторы получили большинство мест в брита...</td>\n",
              "      <td>0.926839</td>\n",
              "      <td>0.721479</td>\n",
              "      <td>0.000000</td>\n",
              "      <td>0.842021</td>\n",
              "      <td>0.911530</td>\n",
              "      <td>0.852078</td>\n",
              "      <td>0.159847</td>\n",
              "      <td>0.137271</td>\n",
              "      <td>0.073055</td>\n",
              "      <td>0.062389</td>\n",
              "    </tr>\n",
              "    <tr>\n",
              "      <th>7200</th>\n",
              "      <td>Разговор о роли России во Второй мировой войне</td>\n",
              "      <td>Память погибших во Второй мировой войне почтил...</td>\n",
              "      <td>0.623922</td>\n",
              "      <td>0.780105</td>\n",
              "      <td>1.000000</td>\n",
              "      <td>0.987018</td>\n",
              "      <td>0.794285</td>\n",
              "      <td>0.988221</td>\n",
              "      <td>0.061238</td>\n",
              "      <td>0.066554</td>\n",
              "      <td>0.020046</td>\n",
              "      <td>0.022522</td>\n",
              "    </tr>\n",
              "    <tr>\n",
              "      <th>7201</th>\n",
              "      <td>Суд оправдал Васильеву в мошенничестве со здан...</td>\n",
              "      <td>Суд оправдал Васильеву в мошенничестве со здан...</td>\n",
              "      <td>0.945364</td>\n",
              "      <td>0.981986</td>\n",
              "      <td>1.000000</td>\n",
              "      <td>1.000000</td>\n",
              "      <td>0.978914</td>\n",
              "      <td>1.000000</td>\n",
              "      <td>0.001315</td>\n",
              "      <td>0.001660</td>\n",
              "      <td>0.018282</td>\n",
              "      <td>0.013704</td>\n",
              "    </tr>\n",
              "    <tr>\n",
              "      <th>7202</th>\n",
              "      <td>Суд оправдал Васильеву в хищении акций на два ...</td>\n",
              "      <td>Суд оправдал Васильеву в мошенничестве со здан...</td>\n",
              "      <td>0.736661</td>\n",
              "      <td>0.830972</td>\n",
              "      <td>1.000000</td>\n",
              "      <td>0.803526</td>\n",
              "      <td>0.888395</td>\n",
              "      <td>0.827128</td>\n",
              "      <td>0.105943</td>\n",
              "      <td>0.118847</td>\n",
              "      <td>-0.039587</td>\n",
              "      <td>-0.044337</td>\n",
              "    </tr>\n",
              "    <tr>\n",
              "      <th>7203</th>\n",
              "      <td>Суд оправдал Васильеву в хищении акций на 2 мл...</td>\n",
              "      <td>Суд оправдал Васильеву в мошенничестве со здан...</td>\n",
              "      <td>0.648152</td>\n",
              "      <td>0.683193</td>\n",
              "      <td>1.000000</td>\n",
              "      <td>0.803526</td>\n",
              "      <td>0.865592</td>\n",
              "      <td>0.827128</td>\n",
              "      <td>0.105943</td>\n",
              "      <td>0.118847</td>\n",
              "      <td>-0.039587</td>\n",
              "      <td>-0.044337</td>\n",
              "    </tr>\n",
              "    <tr>\n",
              "      <th>7204</th>\n",
              "      <td>Цены на нефть восстанавливаются</td>\n",
              "      <td>Мировые цены на нефть продолжают снижаться</td>\n",
              "      <td>0.981689</td>\n",
              "      <td>0.939303</td>\n",
              "      <td>1.000000</td>\n",
              "      <td>1.000000</td>\n",
              "      <td>0.938287</td>\n",
              "      <td>1.000000</td>\n",
              "      <td>0.411694</td>\n",
              "      <td>0.412204</td>\n",
              "      <td>0.132849</td>\n",
              "      <td>0.132578</td>\n",
              "    </tr>\n",
              "    <tr>\n",
              "      <th>7205</th>\n",
              "      <td>МЧС прорабатывает транспортировку тел погибших...</td>\n",
              "      <td>Лавров выразил соболезнования родственникам ди...</td>\n",
              "      <td>0.969161</td>\n",
              "      <td>0.700756</td>\n",
              "      <td>0.000000</td>\n",
              "      <td>0.874989</td>\n",
              "      <td>0.851136</td>\n",
              "      <td>0.925689</td>\n",
              "      <td>0.001012</td>\n",
              "      <td>0.000195</td>\n",
              "      <td>-0.000184</td>\n",
              "      <td>-0.000828</td>\n",
              "    </tr>\n",
              "    <tr>\n",
              "      <th>7206</th>\n",
              "      <td>9 мая метрополитен Петербурга будет работать к...</td>\n",
              "      <td>Около 15 тысяч булок приготовлено для журналис...</td>\n",
              "      <td>0.620991</td>\n",
              "      <td>0.883311</td>\n",
              "      <td>0.000000</td>\n",
              "      <td>0.988885</td>\n",
              "      <td>0.879544</td>\n",
              "      <td>0.940174</td>\n",
              "      <td>0.024544</td>\n",
              "      <td>0.032463</td>\n",
              "      <td>0.024395</td>\n",
              "      <td>0.031146</td>\n",
              "    </tr>\n",
              "    <tr>\n",
              "      <th>7207</th>\n",
              "      <td>Лидер лейбористов Великобритании объявил об от...</td>\n",
              "      <td>Лидер британских лейбористов подал в отставку ...</td>\n",
              "      <td>0.328599</td>\n",
              "      <td>0.849181</td>\n",
              "      <td>1.000000</td>\n",
              "      <td>0.863645</td>\n",
              "      <td>0.938114</td>\n",
              "      <td>0.863517</td>\n",
              "      <td>0.097833</td>\n",
              "      <td>0.090024</td>\n",
              "      <td>-0.036904</td>\n",
              "      <td>-0.039100</td>\n",
              "    </tr>\n",
              "    <tr>\n",
              "      <th>7208</th>\n",
              "      <td>Газета The Times сообщила об отставке лидера б...</td>\n",
              "      <td>Лидер британских лейбористов подал в отставку ...</td>\n",
              "      <td>0.161044</td>\n",
              "      <td>0.212872</td>\n",
              "      <td>0.000000</td>\n",
              "      <td>0.898315</td>\n",
              "      <td>0.816432</td>\n",
              "      <td>0.962710</td>\n",
              "      <td>0.015753</td>\n",
              "      <td>0.015285</td>\n",
              "      <td>-0.021723</td>\n",
              "      <td>-0.023003</td>\n",
              "    </tr>\n",
              "    <tr>\n",
              "      <th>7209</th>\n",
              "      <td>9 мая метрополитен Петербурга будет работать к...</td>\n",
              "      <td>Кремль: Порошенко не был приглашен в Москву на...</td>\n",
              "      <td>0.350736</td>\n",
              "      <td>0.877411</td>\n",
              "      <td>0.000000</td>\n",
              "      <td>0.904721</td>\n",
              "      <td>0.773910</td>\n",
              "      <td>0.744721</td>\n",
              "      <td>0.020090</td>\n",
              "      <td>0.028533</td>\n",
              "      <td>-0.004132</td>\n",
              "      <td>-0.002792</td>\n",
              "    </tr>\n",
              "    <tr>\n",
              "      <th>7210</th>\n",
              "      <td>Россия убедила КНР выделить на магистраль Моск...</td>\n",
              "      <td>Китай вложит в магистраль «Москва-Казань» 100 ...</td>\n",
              "      <td>0.667176</td>\n",
              "      <td>0.820712</td>\n",
              "      <td>0.000000</td>\n",
              "      <td>0.806216</td>\n",
              "      <td>0.945488</td>\n",
              "      <td>0.897908</td>\n",
              "      <td>0.016634</td>\n",
              "      <td>0.013754</td>\n",
              "      <td>0.089113</td>\n",
              "      <td>0.058177</td>\n",
              "    </tr>\n",
              "    <tr>\n",
              "      <th>7211</th>\n",
              "      <td>9 мая метрополитен Петербурга будет работать к...</td>\n",
              "      <td>Главком ВВС РФ: парад 9 мая будет грандиозным</td>\n",
              "      <td>0.824111</td>\n",
              "      <td>0.784166</td>\n",
              "      <td>0.000000</td>\n",
              "      <td>0.904721</td>\n",
              "      <td>0.766813</td>\n",
              "      <td>0.744721</td>\n",
              "      <td>0.000000</td>\n",
              "      <td>0.000060</td>\n",
              "      <td>-0.055927</td>\n",
              "      <td>-0.067119</td>\n",
              "    </tr>\n",
              "    <tr>\n",
              "      <th>7212</th>\n",
              "      <td>Суд назначил Васильевой пять лет реального зак...</td>\n",
              "      <td>Защита Васильевой обжалует приговор в виде пят...</td>\n",
              "      <td>0.537536</td>\n",
              "      <td>0.809921</td>\n",
              "      <td>0.000000</td>\n",
              "      <td>0.793946</td>\n",
              "      <td>0.964536</td>\n",
              "      <td>0.898713</td>\n",
              "      <td>0.003545</td>\n",
              "      <td>0.003567</td>\n",
              "      <td>0.032590</td>\n",
              "      <td>0.024017</td>\n",
              "    </tr>\n",
              "    <tr>\n",
              "      <th>7213</th>\n",
              "      <td>Экзит-полы показали победу консерваторов на вы...</td>\n",
              "      <td>Консерваторы победили на выборах в Британии</td>\n",
              "      <td>0.994448</td>\n",
              "      <td>0.927491</td>\n",
              "      <td>0.000000</td>\n",
              "      <td>0.768273</td>\n",
              "      <td>0.973236</td>\n",
              "      <td>0.785031</td>\n",
              "      <td>0.521434</td>\n",
              "      <td>0.401846</td>\n",
              "      <td>0.782782</td>\n",
              "      <td>0.684795</td>\n",
              "    </tr>\n",
              "    <tr>\n",
              "      <th>7214</th>\n",
              "      <td>Косачев: победа консерваторов в Британии сохра...</td>\n",
              "      <td>Консерваторы победили на выборах в Британии</td>\n",
              "      <td>0.910829</td>\n",
              "      <td>0.339374</td>\n",
              "      <td>0.000000</td>\n",
              "      <td>0.542543</td>\n",
              "      <td>0.829553</td>\n",
              "      <td>0.817761</td>\n",
              "      <td>0.562738</td>\n",
              "      <td>0.558998</td>\n",
              "      <td>0.617903</td>\n",
              "      <td>0.665843</td>\n",
              "    </tr>\n",
              "    <tr>\n",
              "      <th>7215</th>\n",
              "      <td>Консерваторы претендуют на большинство в парла...</td>\n",
              "      <td>Консерваторы победили на выборах в Британии</td>\n",
              "      <td>0.993915</td>\n",
              "      <td>0.760813</td>\n",
              "      <td>0.000000</td>\n",
              "      <td>0.814667</td>\n",
              "      <td>0.898656</td>\n",
              "      <td>0.859910</td>\n",
              "      <td>0.196448</td>\n",
              "      <td>0.205385</td>\n",
              "      <td>0.118935</td>\n",
              "      <td>0.135097</td>\n",
              "    </tr>\n",
              "    <tr>\n",
              "      <th>7216</th>\n",
              "      <td>Николай Толстых ответил на слова агента Капелло</td>\n",
              "      <td>Капелло назвал слова Толстых о долгах по зарпл...</td>\n",
              "      <td>0.180927</td>\n",
              "      <td>0.690436</td>\n",
              "      <td>0.000000</td>\n",
              "      <td>0.816422</td>\n",
              "      <td>0.871002</td>\n",
              "      <td>0.740504</td>\n",
              "      <td>0.000000</td>\n",
              "      <td>0.000000</td>\n",
              "      <td>-0.044044</td>\n",
              "      <td>-0.044312</td>\n",
              "    </tr>\n",
              "    <tr>\n",
              "      <th>7217</th>\n",
              "      <td>Суд продолжит оглашение приговора фигурантам д...</td>\n",
              "      <td>Суд назначил сроки заключения фигурантам дела ...</td>\n",
              "      <td>0.759327</td>\n",
              "      <td>0.818807</td>\n",
              "      <td>1.000000</td>\n",
              "      <td>0.863460</td>\n",
              "      <td>0.917554</td>\n",
              "      <td>0.929229</td>\n",
              "      <td>0.005203</td>\n",
              "      <td>0.006694</td>\n",
              "      <td>0.040388</td>\n",
              "      <td>0.037178</td>\n",
              "    </tr>\n",
              "    <tr>\n",
              "      <th>7218</th>\n",
              "      <td>Суд назначил Васильевой пять лет реального зак...</td>\n",
              "      <td>Суд назначил сроки заключения фигурантам дела ...</td>\n",
              "      <td>0.584866</td>\n",
              "      <td>0.639680</td>\n",
              "      <td>0.647797</td>\n",
              "      <td>0.656266</td>\n",
              "      <td>0.918119</td>\n",
              "      <td>0.870765</td>\n",
              "      <td>0.011887</td>\n",
              "      <td>0.007364</td>\n",
              "      <td>-0.007958</td>\n",
              "      <td>-0.015081</td>\n",
              "    </tr>\n",
              "    <tr>\n",
              "      <th>7219</th>\n",
              "      <td>Амнистия будет приурочена в Белоруссии к 70-ле...</td>\n",
              "      <td>Евгения Васильева не попадет под амнистию к 70...</td>\n",
              "      <td>0.705607</td>\n",
              "      <td>0.717751</td>\n",
              "      <td>0.000000</td>\n",
              "      <td>0.856104</td>\n",
              "      <td>0.852771</td>\n",
              "      <td>0.907655</td>\n",
              "      <td>0.002529</td>\n",
              "      <td>0.002769</td>\n",
              "      <td>0.063101</td>\n",
              "      <td>0.062903</td>\n",
              "    </tr>\n",
              "    <tr>\n",
              "      <th>7220</th>\n",
              "      <td>Адвокат: Васильева \"нормально восприняла\" приг...</td>\n",
              "      <td>Защита Васильевой обжалует приговор суда</td>\n",
              "      <td>0.933371</td>\n",
              "      <td>0.976012</td>\n",
              "      <td>0.852522</td>\n",
              "      <td>0.987875</td>\n",
              "      <td>0.945108</td>\n",
              "      <td>0.974451</td>\n",
              "      <td>0.000185</td>\n",
              "      <td>0.000166</td>\n",
              "      <td>-0.013246</td>\n",
              "      <td>-0.013831</td>\n",
              "    </tr>\n",
              "    <tr>\n",
              "      <th>7221</th>\n",
              "      <td>Маркин: Васильева сможет реализовать свой поте...</td>\n",
              "      <td>Маркин посоветовал Васильевой реализовать себя...</td>\n",
              "      <td>0.955009</td>\n",
              "      <td>0.705116</td>\n",
              "      <td>0.000000</td>\n",
              "      <td>0.192579</td>\n",
              "      <td>0.909755</td>\n",
              "      <td>0.743081</td>\n",
              "      <td>0.000000</td>\n",
              "      <td>0.000000</td>\n",
              "      <td>-0.013265</td>\n",
              "      <td>-0.015510</td>\n",
              "    </tr>\n",
              "    <tr>\n",
              "      <th>7222</th>\n",
              "      <td>Путин освободил от должности ряд генералов</td>\n",
              "      <td>Путин снял с должностей более 20 руководителей...</td>\n",
              "      <td>-0.029405</td>\n",
              "      <td>0.518683</td>\n",
              "      <td>0.580537</td>\n",
              "      <td>0.423731</td>\n",
              "      <td>0.881641</td>\n",
              "      <td>0.717805</td>\n",
              "      <td>0.117154</td>\n",
              "      <td>0.120766</td>\n",
              "      <td>0.039391</td>\n",
              "      <td>0.037659</td>\n",
              "    </tr>\n",
              "    <tr>\n",
              "      <th>7223</th>\n",
              "      <td>Облака над Москвой в День Победы разгонят девя...</td>\n",
              "      <td>Путеводитель по Дню Победы: как провести 9 мая...</td>\n",
              "      <td>0.662598</td>\n",
              "      <td>0.648831</td>\n",
              "      <td>0.000000</td>\n",
              "      <td>0.945695</td>\n",
              "      <td>0.814174</td>\n",
              "      <td>0.914676</td>\n",
              "      <td>0.086535</td>\n",
              "      <td>0.081134</td>\n",
              "      <td>-0.007697</td>\n",
              "      <td>-0.002618</td>\n",
              "    </tr>\n",
              "    <tr>\n",
              "      <th>7224</th>\n",
              "      <td>Любляна отпразднует День Победы вместе с Москвой</td>\n",
              "      <td>В Москве ограничат движение в связи с Днем Победы</td>\n",
              "      <td>0.532836</td>\n",
              "      <td>0.508159</td>\n",
              "      <td>0.000000</td>\n",
              "      <td>0.620139</td>\n",
              "      <td>0.811593</td>\n",
              "      <td>0.928014</td>\n",
              "      <td>0.018978</td>\n",
              "      <td>0.013551</td>\n",
              "      <td>0.044292</td>\n",
              "      <td>0.024536</td>\n",
              "    </tr>\n",
              "    <tr>\n",
              "      <th>7225</th>\n",
              "      <td>Девять самолетов ВВС разгонят облака над Москв...</td>\n",
              "      <td>В Москве ограничат движение в связи с Днем Победы</td>\n",
              "      <td>0.833257</td>\n",
              "      <td>0.417341</td>\n",
              "      <td>0.000000</td>\n",
              "      <td>0.464465</td>\n",
              "      <td>0.793712</td>\n",
              "      <td>0.702623</td>\n",
              "      <td>0.003151</td>\n",
              "      <td>0.001355</td>\n",
              "      <td>0.017426</td>\n",
              "      <td>0.005092</td>\n",
              "    </tr>\n",
              "    <tr>\n",
              "      <th>7226</th>\n",
              "      <td>9 мая метрополитен Петербурга будет работать к...</td>\n",
              "      <td>Мартынов: комендантский час в Донецке 9 мая бу...</td>\n",
              "      <td>0.641990</td>\n",
              "      <td>0.956994</td>\n",
              "      <td>0.000000</td>\n",
              "      <td>0.904721</td>\n",
              "      <td>0.863495</td>\n",
              "      <td>0.744721</td>\n",
              "      <td>0.000000</td>\n",
              "      <td>0.000209</td>\n",
              "      <td>-0.011767</td>\n",
              "      <td>-0.011837</td>\n",
              "    </tr>\n",
              "  </tbody>\n",
              "</table>\n",
              "<p>7227 rows × 12 columns</p>\n",
              "</div>"
            ],
            "text/plain": [
              "                                                 text_1  \\\n",
              "0     Полицейским разрешат стрелять на поражение по ...   \n",
              "1     Право полицейских на проникновение в жилище ре...   \n",
              "2     Президент Египта ввел чрезвычайное положение в...   \n",
              "3     Вернувшихся из Сирии россиян волнует вопрос тр...   \n",
              "4     В Москву из Сирии вернулись 2 самолета МЧС с р...   \n",
              "5     Приставы соберут отпечатки пальцев российских ...   \n",
              "6     На саратовского дебошира с борта самолета Моск...   \n",
              "7     ЦИК хочет отказаться от электронной системы по...   \n",
              "8     Суд Петербурга оставил на потом дело о гибели ...   \n",
              "9     Страны ОПЕК сократили добычу нефти на 1 млн ба...   \n",
              "10    Москвичи смогут забронировать в Интернете мест...   \n",
              "11    Въезд в центр Москвы автомобилям с двигателями...   \n",
              "12    В Подмосковье произошел пожар на железной дороге.   \n",
              "13    Северокорейский лидер впервые за 19 лет поздра...   \n",
              "14    Мужчина из Подмосковья случайно убил жену в Но...   \n",
              "15    Избежать \"фискального обрыва\": Сенат США подде...   \n",
              "16      \"Фискальный обрыв\" в США временно предотвращен.   \n",
              "17          Житель Украины расстрелял посетителей кафе.   \n",
              "18    В Кот-Д`Ивуаре десятки человек погибли в давке...   \n",
              "19                  В Абхазии отомстили за Деда Хасана.   \n",
              "20    Чечня попросила националистов составить кодекс...   \n",
              "21    В новогоднюю ночь во Франции сожгли больше тыс...   \n",
              "22    В Анголе в давке во время церковной службы пог...   \n",
              "23    Morgan Stanley взял на работу бывшего зампреда...   \n",
              "24    Конгресс США утвердил план по предотвращению \"...   \n",
              "25    Счетная палата проверит Газпром на непрофильны...   \n",
              "26    Новые комиксы о пророке Мухаммеде появились во...   \n",
              "27    Число убитых в ходе конфликта в Сирии превысил...   \n",
              "28    В США скончалась звезда эстрады 1950-х Патти П...   \n",
              "29    Сенат США единогласно осудил \"закон Димы Яковл...   \n",
              "...                                                 ...   \n",
              "7197  Вертолет с 11 иностранцами на борту упал в Пак...   \n",
              "7198  Лидер британских лейбористов сохранил место в ...   \n",
              "7199  Exit poll: консерваторы лидируют на выборах в ...   \n",
              "7200     Разговор о роли России во Второй мировой войне   \n",
              "7201  Суд оправдал Васильеву в мошенничестве со здан...   \n",
              "7202  Суд оправдал Васильеву в хищении акций на два ...   \n",
              "7203  Суд оправдал Васильеву в хищении акций на 2 мл...   \n",
              "7204                    Цены на нефть восстанавливаются   \n",
              "7205  МЧС прорабатывает транспортировку тел погибших...   \n",
              "7206  9 мая метрополитен Петербурга будет работать к...   \n",
              "7207  Лидер лейбористов Великобритании объявил об от...   \n",
              "7208  Газета The Times сообщила об отставке лидера б...   \n",
              "7209  9 мая метрополитен Петербурга будет работать к...   \n",
              "7210  Россия убедила КНР выделить на магистраль Моск...   \n",
              "7211  9 мая метрополитен Петербурга будет работать к...   \n",
              "7212  Суд назначил Васильевой пять лет реального зак...   \n",
              "7213  Экзит-полы показали победу консерваторов на вы...   \n",
              "7214  Косачев: победа консерваторов в Британии сохра...   \n",
              "7215  Консерваторы претендуют на большинство в парла...   \n",
              "7216    Николай Толстых ответил на слова агента Капелло   \n",
              "7217  Суд продолжит оглашение приговора фигурантам д...   \n",
              "7218  Суд назначил Васильевой пять лет реального зак...   \n",
              "7219  Амнистия будет приурочена в Белоруссии к 70-ле...   \n",
              "7220  Адвокат: Васильева \"нормально восприняла\" приг...   \n",
              "7221  Маркин: Васильева сможет реализовать свой поте...   \n",
              "7222         Путин освободил от должности ряд генералов   \n",
              "7223  Облака над Москвой в День Победы разгонят девя...   \n",
              "7224   Любляна отпразднует День Победы вместе с Москвой   \n",
              "7225  Девять самолетов ВВС разгонят облака над Москв...   \n",
              "7226  9 мая метрополитен Петербурга будет работать к...   \n",
              "\n",
              "                                                 text_2  FastText  \\\n",
              "0     Полиции могут разрешить стрелять по хулиганам ...  0.903937   \n",
              "1     Правила внесудебного проникновения полицейских...  0.908481   \n",
              "2     Власти Египта угрожают ввести в стране чрезвыч...  0.947987   \n",
              "3     Самолеты МЧС вывезут россиян из разрушенной Си...  0.806719   \n",
              "4     Самолеты МЧС вывезут россиян из разрушенной Си...  0.415907   \n",
              "5     Приставы снимут отпечатки пальцев у злостных н...  0.043207   \n",
              "6     Саратовский дебошир отказывается возвращаться ... -0.092899   \n",
              "7     ЦИК может отказаться от электронных средств по...  0.966421   \n",
              "8     Лондонский Гайд-парк - это не место для митинг... -0.225135   \n",
              "9     Обама продлил полномочия НАСА по сотрудничеств... -0.162089   \n",
              "10    В Москве можно будет забронировать место на кл...  0.966286   \n",
              "11    Сборная России пробилась в плей-офф чемпионата...  0.723057   \n",
              "12        В Подмосковье загорелись цистерны с бензином.  0.449184   \n",
              "13    Лидер КНДР впервые за 19 лет поздравил согражд...  0.996379   \n",
              "14    Житель Подмосковья случайно убил жену на новог...  0.382474   \n",
              "15          Сенат США не допустит \"фискального обрыва\".  0.678180   \n",
              "16          Сенат США не допустит \"фискального обрыва\".  0.167885   \n",
              "17    На Украине мужчина через окно расстрелял посет...  0.349426   \n",
              "18    В давке у стадиона в Кот-д’Ивуаре погибли 60 ч...  0.797515   \n",
              "19                   В Абхазии убили врага Деда Хасана.  0.823388   \n",
              "20    Националисты помогут Чечне составить кодекс по...  0.888476   \n",
              "21    В новогоднюю ночь во Франции сожгли 1193 автом...  0.988234   \n",
              "22    В ходе давки на церковной службе в Анголе поги...  0.922759   \n",
              "23     Бывший глава ФСФР нашел работу в Morgan Stanley.  0.535986   \n",
              "24    Палата представителей утвердила план предотвра...  0.536661   \n",
              "25    Счетная палата проверит \"Газпром\" впервые за п...  0.275798   \n",
              "26    Во Франции издали комикс по мотивам жизни прор...  0.405803   \n",
              "27    В ходе сирийского конфликта погибли 60 тысяч ч...  0.962527   \n",
              "28          Скончалась американская певица Патти Пейдж.  0.278898   \n",
              "29    Сенат США единогласно осудил запрет на усыновл...  0.662021   \n",
              "...                                                 ...       ...   \n",
              "7197  В Пакистане разбился вертолет с иностранными д...  0.910531   \n",
              "7198  Газета The Times сообщила об отставке лидера б...  0.192428   \n",
              "7199  Консерваторы получили большинство мест в брита...  0.926839   \n",
              "7200  Память погибших во Второй мировой войне почтил...  0.623922   \n",
              "7201  Суд оправдал Васильеву в мошенничестве со здан...  0.945364   \n",
              "7202  Суд оправдал Васильеву в мошенничестве со здан...  0.736661   \n",
              "7203  Суд оправдал Васильеву в мошенничестве со здан...  0.648152   \n",
              "7204         Мировые цены на нефть продолжают снижаться  0.981689   \n",
              "7205  Лавров выразил соболезнования родственникам ди...  0.969161   \n",
              "7206  Около 15 тысяч булок приготовлено для журналис...  0.620991   \n",
              "7207  Лидер британских лейбористов подал в отставку ...  0.328599   \n",
              "7208  Лидер британских лейбористов подал в отставку ...  0.161044   \n",
              "7209  Кремль: Порошенко не был приглашен в Москву на...  0.350736   \n",
              "7210  Китай вложит в магистраль «Москва-Казань» 100 ...  0.667176   \n",
              "7211      Главком ВВС РФ: парад 9 мая будет грандиозным  0.824111   \n",
              "7212  Защита Васильевой обжалует приговор в виде пят...  0.537536   \n",
              "7213        Консерваторы победили на выборах в Британии  0.994448   \n",
              "7214        Консерваторы победили на выборах в Британии  0.910829   \n",
              "7215        Консерваторы победили на выборах в Британии  0.993915   \n",
              "7216  Капелло назвал слова Толстых о долгах по зарпл...  0.180927   \n",
              "7217  Суд назначил сроки заключения фигурантам дела ...  0.759327   \n",
              "7218  Суд назначил сроки заключения фигурантам дела ...  0.584866   \n",
              "7219  Евгения Васильева не попадет под амнистию к 70...  0.705607   \n",
              "7220           Защита Васильевой обжалует приговор суда  0.933371   \n",
              "7221  Маркин посоветовал Васильевой реализовать себя...  0.955009   \n",
              "7222  Путин снял с должностей более 20 руководителей... -0.029405   \n",
              "7223  Путеводитель по Дню Победы: как провести 9 мая...  0.662598   \n",
              "7224  В Москве ограничат движение в связи с Днем Победы  0.532836   \n",
              "7225  В Москве ограничат движение в связи с Днем Победы  0.833257   \n",
              "7226  Мартынов: комендантский час в Донецке 9 мая бу...  0.641990   \n",
              "\n",
              "      FastText + norm  FastText + tfidf  FastText + norm + tfidf  Word2Vec  \\\n",
              "0            0.748972          0.000000                 0.719774  0.916304   \n",
              "1            0.796095          0.000000                 0.515567  0.914820   \n",
              "2            0.843157          0.301490                 0.685917  0.957996   \n",
              "3            0.624598          0.000000                 0.792143  0.735428   \n",
              "4            0.680341          1.000000                 0.924508  0.916776   \n",
              "5            0.780682          0.000000                 0.000000  0.929455   \n",
              "6            0.440541          0.000000                 0.000000  0.800890   \n",
              "7            0.882176          1.000000                 0.712880  0.975740   \n",
              "8            0.163077          0.000000                 0.000000  0.683256   \n",
              "9            0.107350          0.000000                 0.000000  0.671823   \n",
              "10           0.819203          0.951235                 0.833650  0.937226   \n",
              "11          -0.074792          0.000000                 0.000000  0.401837   \n",
              "12           0.805202          0.943520                 0.649327  0.869995   \n",
              "13           0.991027          1.000000                 0.991733  0.990327   \n",
              "14           0.340715          0.000000                 0.482490  0.907203   \n",
              "15           0.926985          1.000000                 0.914077  0.934876   \n",
              "16           0.947099          1.000000                 1.000000  0.885686   \n",
              "17           0.840165          0.000000                 0.662652  0.940645   \n",
              "18           0.897911          1.000000                 0.910363  0.901233   \n",
              "19           0.799889          0.000000                 0.000000  0.949779   \n",
              "20           0.903393          0.997075                 0.934242  0.977676   \n",
              "21           0.821984          0.000000                 0.228173  0.964649   \n",
              "22           0.888968          0.753395                 0.905522  0.992354   \n",
              "23           0.668333          0.331385                 0.723577  0.921021   \n",
              "24           0.747227          0.670250                 0.756825  0.954030   \n",
              "25           0.511253          1.000000                 1.000000  0.919231   \n",
              "26           0.467766          0.000000                 0.476030  0.885622   \n",
              "27           0.942095          0.912297                 0.915030  0.963431   \n",
              "28           0.486383          0.000000                 0.088673  0.858752   \n",
              "29           0.939335          0.902931                 0.892283  0.945955   \n",
              "...               ...               ...                      ...       ...   \n",
              "7197         0.397236          0.000000                 0.663258  0.849769   \n",
              "7198         0.130342          0.000000                 0.764287  0.761984   \n",
              "7199         0.721479          0.000000                 0.842021  0.911530   \n",
              "7200         0.780105          1.000000                 0.987018  0.794285   \n",
              "7201         0.981986          1.000000                 1.000000  0.978914   \n",
              "7202         0.830972          1.000000                 0.803526  0.888395   \n",
              "7203         0.683193          1.000000                 0.803526  0.865592   \n",
              "7204         0.939303          1.000000                 1.000000  0.938287   \n",
              "7205         0.700756          0.000000                 0.874989  0.851136   \n",
              "7206         0.883311          0.000000                 0.988885  0.879544   \n",
              "7207         0.849181          1.000000                 0.863645  0.938114   \n",
              "7208         0.212872          0.000000                 0.898315  0.816432   \n",
              "7209         0.877411          0.000000                 0.904721  0.773910   \n",
              "7210         0.820712          0.000000                 0.806216  0.945488   \n",
              "7211         0.784166          0.000000                 0.904721  0.766813   \n",
              "7212         0.809921          0.000000                 0.793946  0.964536   \n",
              "7213         0.927491          0.000000                 0.768273  0.973236   \n",
              "7214         0.339374          0.000000                 0.542543  0.829553   \n",
              "7215         0.760813          0.000000                 0.814667  0.898656   \n",
              "7216         0.690436          0.000000                 0.816422  0.871002   \n",
              "7217         0.818807          1.000000                 0.863460  0.917554   \n",
              "7218         0.639680          0.647797                 0.656266  0.918119   \n",
              "7219         0.717751          0.000000                 0.856104  0.852771   \n",
              "7220         0.976012          0.852522                 0.987875  0.945108   \n",
              "7221         0.705116          0.000000                 0.192579  0.909755   \n",
              "7222         0.518683          0.580537                 0.423731  0.881641   \n",
              "7223         0.648831          0.000000                 0.945695  0.814174   \n",
              "7224         0.508159          0.000000                 0.620139  0.811593   \n",
              "7225         0.417341          0.000000                 0.464465  0.793712   \n",
              "7226         0.956994          0.000000                 0.904721  0.863495   \n",
              "\n",
              "      Word2Vec + tfidf  NMF + CountVect  NMF + TfIDF  SVD + CountVect  \\\n",
              "0             0.746971         0.033658     0.027016         0.036417   \n",
              "1             0.624405         0.017846     0.010989         0.065024   \n",
              "2             0.919444         0.003285     0.004981        -0.001936   \n",
              "3             0.874066         0.000135     0.000144         0.017314   \n",
              "4             0.953417         0.002878     0.002725         0.017767   \n",
              "5             0.000000         0.054164     0.054164        -0.014344   \n",
              "6             0.000000         0.000000     0.000000         0.018371   \n",
              "7             0.930758         0.013333     0.017608         0.069326   \n",
              "8             0.000000         0.059383     0.052727         0.081142   \n",
              "9             0.000000         0.002369     0.005728        -0.036375   \n",
              "10            0.954522         0.023873     0.021060         0.100362   \n",
              "11            0.000000         0.000828     0.001643        -0.026642   \n",
              "12            0.875935         0.010617     0.008491         0.007372   \n",
              "13            0.963244         0.096355     0.075515         0.033949   \n",
              "14            0.935612         0.304327     0.309574        -0.046316   \n",
              "15            0.875404         0.006434     0.013342         0.008807   \n",
              "16            1.000000         0.002506     0.004066        -0.005712   \n",
              "17            0.757043         0.008417     0.006908         0.885597   \n",
              "18            0.919614         0.001491     0.000668        -0.010905   \n",
              "19            0.000000         0.000000     0.000000         0.000000   \n",
              "20            0.960209         0.013566     0.016603         0.009066   \n",
              "21            0.676988         0.173673     0.153810         0.372431   \n",
              "22            0.978151         0.066112     0.052674         0.163125   \n",
              "23            0.854086         0.016843     0.023231         0.041557   \n",
              "24            0.902117         0.001818     0.001676        -0.000045   \n",
              "25            1.000000         0.079474     0.092842         0.289329   \n",
              "26            0.736034         0.959317     0.957673         0.886014   \n",
              "27            0.958226         0.163575     0.258304         0.254770   \n",
              "28            0.749650         0.006081     0.004725         0.037205   \n",
              "29            0.973282         0.016684     0.039013         0.051114   \n",
              "...                ...              ...          ...              ...   \n",
              "7197          0.813016         0.005415     0.005543        -0.005825   \n",
              "7198          0.878437         0.135847     0.131406        -0.005929   \n",
              "7199          0.852078         0.159847     0.137271         0.073055   \n",
              "7200          0.988221         0.061238     0.066554         0.020046   \n",
              "7201          1.000000         0.001315     0.001660         0.018282   \n",
              "7202          0.827128         0.105943     0.118847        -0.039587   \n",
              "7203          0.827128         0.105943     0.118847        -0.039587   \n",
              "7204          1.000000         0.411694     0.412204         0.132849   \n",
              "7205          0.925689         0.001012     0.000195        -0.000184   \n",
              "7206          0.940174         0.024544     0.032463         0.024395   \n",
              "7207          0.863517         0.097833     0.090024        -0.036904   \n",
              "7208          0.962710         0.015753     0.015285        -0.021723   \n",
              "7209          0.744721         0.020090     0.028533        -0.004132   \n",
              "7210          0.897908         0.016634     0.013754         0.089113   \n",
              "7211          0.744721         0.000000     0.000060        -0.055927   \n",
              "7212          0.898713         0.003545     0.003567         0.032590   \n",
              "7213          0.785031         0.521434     0.401846         0.782782   \n",
              "7214          0.817761         0.562738     0.558998         0.617903   \n",
              "7215          0.859910         0.196448     0.205385         0.118935   \n",
              "7216          0.740504         0.000000     0.000000        -0.044044   \n",
              "7217          0.929229         0.005203     0.006694         0.040388   \n",
              "7218          0.870765         0.011887     0.007364        -0.007958   \n",
              "7219          0.907655         0.002529     0.002769         0.063101   \n",
              "7220          0.974451         0.000185     0.000166        -0.013246   \n",
              "7221          0.743081         0.000000     0.000000        -0.013265   \n",
              "7222          0.717805         0.117154     0.120766         0.039391   \n",
              "7223          0.914676         0.086535     0.081134        -0.007697   \n",
              "7224          0.928014         0.018978     0.013551         0.044292   \n",
              "7225          0.702623         0.003151     0.001355         0.017426   \n",
              "7226          0.744721         0.000000     0.000209        -0.011767   \n",
              "\n",
              "      SVD + TfIDF  \n",
              "0        0.035394  \n",
              "1        0.035315  \n",
              "2       -0.000580  \n",
              "3        0.005992  \n",
              "4        0.004108  \n",
              "5       -0.014344  \n",
              "6        0.021710  \n",
              "7        0.070226  \n",
              "8        0.081341  \n",
              "9       -0.050874  \n",
              "10       0.111492  \n",
              "11      -0.027255  \n",
              "12       0.003644  \n",
              "13       0.028126  \n",
              "14      -0.054481  \n",
              "15       0.031765  \n",
              "16      -0.004493  \n",
              "17       0.806293  \n",
              "18      -0.003585  \n",
              "19       0.000000  \n",
              "20       0.010906  \n",
              "21       0.332284  \n",
              "22       0.175716  \n",
              "23       0.054756  \n",
              "24       0.003386  \n",
              "25       0.318313  \n",
              "26       0.881331  \n",
              "27       0.348490  \n",
              "28       0.038284  \n",
              "29       0.050566  \n",
              "...           ...  \n",
              "7197    -0.005867  \n",
              "7198    -0.005245  \n",
              "7199     0.062389  \n",
              "7200     0.022522  \n",
              "7201     0.013704  \n",
              "7202    -0.044337  \n",
              "7203    -0.044337  \n",
              "7204     0.132578  \n",
              "7205    -0.000828  \n",
              "7206     0.031146  \n",
              "7207    -0.039100  \n",
              "7208    -0.023003  \n",
              "7209    -0.002792  \n",
              "7210     0.058177  \n",
              "7211    -0.067119  \n",
              "7212     0.024017  \n",
              "7213     0.684795  \n",
              "7214     0.665843  \n",
              "7215     0.135097  \n",
              "7216    -0.044312  \n",
              "7217     0.037178  \n",
              "7218    -0.015081  \n",
              "7219     0.062903  \n",
              "7220    -0.013831  \n",
              "7221    -0.015510  \n",
              "7222     0.037659  \n",
              "7223    -0.002618  \n",
              "7224     0.024536  \n",
              "7225     0.005092  \n",
              "7226    -0.011837  \n",
              "\n",
              "[7227 rows x 12 columns]"
            ]
          },
          "metadata": {
            "tags": []
          },
          "execution_count": 183
        }
      ]
    },
    {
      "metadata": {
        "id": "stKLRLpwfZLo",
        "colab_type": "text"
      },
      "cell_type": "markdown",
      "source": [
        "\n",
        "\n",
        "---\n",
        "\n",
        "Теперь перейдем к обучению на полученных векторах. Ради интереса используем FastText без всего. "
      ]
    },
    {
      "metadata": {
        "id": "FI5RyU1EjB0l",
        "colab_type": "code",
        "colab": {
          "base_uri": "https://localhost:8080/",
          "height": 241
        },
        "outputId": "99d46cd8-46b8-4d4a-a5aa-b524aaf496b9"
      },
      "cell_type": "code",
      "source": [
        "!pip install catboost"
      ],
      "execution_count": 184,
      "outputs": [
        {
          "output_type": "stream",
          "text": [
            "Collecting catboost\n",
            "\u001b[?25l  Downloading https://files.pythonhosted.org/packages/19/ea/d6cbdf03fb1e8ea8c7c7a0b37b89c8f8b3825ec625d428d49b6230656c00/catboost-0.11.1-cp36-none-manylinux1_x86_64.whl (55.3MB)\n",
            "\u001b[K    100% |████████████████████████████████| 55.3MB 684kB/s \n",
            "\u001b[?25hRequirement already satisfied: pandas>=0.19.1 in /usr/local/lib/python3.6/dist-packages (from catboost) (0.22.0)\n",
            "Requirement already satisfied: numpy>=1.11.1 in /usr/local/lib/python3.6/dist-packages (from catboost) (1.14.6)\n",
            "Requirement already satisfied: six in /usr/local/lib/python3.6/dist-packages (from catboost) (1.11.0)\n",
            "Collecting enum34 (from catboost)\n",
            "  Downloading https://files.pythonhosted.org/packages/af/42/cb9355df32c69b553e72a2e28daee25d1611d2c0d9c272aa1d34204205b2/enum34-1.1.6-py3-none-any.whl\n",
            "Requirement already satisfied: pytz>=2011k in /usr/local/lib/python3.6/dist-packages (from pandas>=0.19.1->catboost) (2018.7)\n",
            "Requirement already satisfied: python-dateutil>=2 in /usr/local/lib/python3.6/dist-packages (from pandas>=0.19.1->catboost) (2.5.3)\n",
            "Installing collected packages: enum34, catboost\n",
            "Successfully installed catboost-0.11.1 enum34-1.1.6\n"
          ],
          "name": "stdout"
        }
      ]
    },
    {
      "metadata": {
        "id": "B5cR2W8KiqFy",
        "colab_type": "code",
        "colab": {}
      },
      "cell_type": "code",
      "source": [
        "from sklearn.model_selection import cross_val_score\n",
        "import catboost\n",
        "\n",
        "y = data.label.map({'0': 1, '1': 2, '-1': 0})"
      ],
      "execution_count": 0,
      "outputs": []
    },
    {
      "metadata": {
        "id": "FjjKklkyjme9",
        "colab_type": "code",
        "colab": {
          "base_uri": "https://localhost:8080/",
          "height": 1020
        },
        "outputId": "3e837a8d-0997-4c41-8482-d825d4ca43e6"
      },
      "cell_type": "code",
      "source": [
        "%%time\n",
        "scores = cross_val_score(catboost.CatBoostClassifier(),\n",
        "                             X_text_FT,\n",
        "                             y,\n",
        "                             cv=3)\n",
        "\n",
        "print('CatBoost + FastText\\nScores:{}\\nMean:{}'.format(str(scores), np.mean(scores)))"
      ],
      "execution_count": 0,
      "outputs": [
        {
          "output_type": "stream",
          "text": [
            "0:\tlearn: 0.6895626\ttotal: 93.6ms\tremaining: 1m 33s\n",
            "1:\tlearn: 0.6861287\ttotal: 186ms\tremaining: 1m 32s\n",
            "2:\tlearn: 0.6831140\ttotal: 281ms\tremaining: 1m 33s\n",
            "3:\tlearn: 0.6800951\ttotal: 377ms\tremaining: 1m 33s\n",
            "4:\tlearn: 0.6773457\ttotal: 470ms\tremaining: 1m 33s\n",
            "5:\tlearn: 0.6750456\ttotal: 563ms\tremaining: 1m 33s\n",
            "6:\tlearn: 0.6717998\ttotal: 662ms\tremaining: 1m 33s\n",
            "7:\tlearn: 0.6688699\ttotal: 758ms\tremaining: 1m 33s\n",
            "8:\tlearn: 0.6658385\ttotal: 854ms\tremaining: 1m 34s\n",
            "9:\tlearn: 0.6629518\ttotal: 995ms\tremaining: 1m 38s\n",
            "10:\tlearn: 0.6605288\ttotal: 1.15s\tremaining: 1m 43s\n",
            "11:\tlearn: 0.6581699\ttotal: 1.31s\tremaining: 1m 48s\n",
            "12:\tlearn: 0.6554849\ttotal: 1.48s\tremaining: 1m 52s\n",
            "13:\tlearn: 0.6532579\ttotal: 1.63s\tremaining: 1m 54s\n",
            "14:\tlearn: 0.6510840\ttotal: 1.79s\tremaining: 1m 57s\n",
            "15:\tlearn: 0.6484547\ttotal: 1.95s\tremaining: 1m 59s\n",
            "16:\tlearn: 0.6466164\ttotal: 2.1s\tremaining: 2m 1s\n",
            "17:\tlearn: 0.6448134\ttotal: 2.26s\tremaining: 2m 3s\n",
            "18:\tlearn: 0.6424351\ttotal: 2.42s\tremaining: 2m 4s\n",
            "19:\tlearn: 0.6400345\ttotal: 2.57s\tremaining: 2m 6s\n",
            "20:\tlearn: 0.6383364\ttotal: 2.73s\tremaining: 2m 7s\n",
            "21:\tlearn: 0.6363037\ttotal: 2.89s\tremaining: 2m 8s\n",
            "22:\tlearn: 0.6347602\ttotal: 3.05s\tremaining: 2m 9s\n",
            "23:\tlearn: 0.6329847\ttotal: 3.21s\tremaining: 2m 10s\n",
            "24:\tlearn: 0.6313307\ttotal: 3.36s\tremaining: 2m 11s\n",
            "25:\tlearn: 0.6297840\ttotal: 3.52s\tremaining: 2m 12s\n",
            "26:\tlearn: 0.6280376\ttotal: 3.68s\tremaining: 2m 12s\n",
            "27:\tlearn: 0.6263519\ttotal: 3.83s\tremaining: 2m 12s\n",
            "28:\tlearn: 0.6249393\ttotal: 3.98s\tremaining: 2m 13s\n",
            "29:\tlearn: 0.6236631\ttotal: 4.14s\tremaining: 2m 14s\n",
            "30:\tlearn: 0.6224321\ttotal: 4.29s\tremaining: 2m 14s\n",
            "31:\tlearn: 0.6210369\ttotal: 4.45s\tremaining: 2m 14s\n",
            "32:\tlearn: 0.6197531\ttotal: 4.61s\tremaining: 2m 15s\n",
            "33:\tlearn: 0.6182495\ttotal: 4.77s\tremaining: 2m 15s\n",
            "34:\tlearn: 0.6166119\ttotal: 4.94s\tremaining: 2m 16s\n",
            "35:\tlearn: 0.6155056\ttotal: 5.1s\tremaining: 2m 16s\n",
            "36:\tlearn: 0.6139835\ttotal: 5.25s\tremaining: 2m 16s\n",
            "37:\tlearn: 0.6126952\ttotal: 5.42s\tremaining: 2m 17s\n",
            "38:\tlearn: 0.6116924\ttotal: 5.58s\tremaining: 2m 17s\n",
            "39:\tlearn: 0.6103709\ttotal: 5.74s\tremaining: 2m 17s\n",
            "40:\tlearn: 0.6090821\ttotal: 5.89s\tremaining: 2m 17s\n",
            "41:\tlearn: 0.6078911\ttotal: 6.06s\tremaining: 2m 18s\n",
            "42:\tlearn: 0.6071956\ttotal: 6.21s\tremaining: 2m 18s\n",
            "43:\tlearn: 0.6064761\ttotal: 6.38s\tremaining: 2m 18s\n",
            "44:\tlearn: 0.6057718\ttotal: 6.54s\tremaining: 2m 18s\n",
            "45:\tlearn: 0.6045642\ttotal: 6.7s\tremaining: 2m 19s\n",
            "46:\tlearn: 0.6035257\ttotal: 6.86s\tremaining: 2m 19s\n",
            "47:\tlearn: 0.6025311\ttotal: 7.03s\tremaining: 2m 19s\n",
            "48:\tlearn: 0.6015066\ttotal: 7.19s\tremaining: 2m 19s\n",
            "49:\tlearn: 0.6002165\ttotal: 7.35s\tremaining: 2m 19s\n",
            "50:\tlearn: 0.5993093\ttotal: 7.51s\tremaining: 2m 19s\n",
            "51:\tlearn: 0.5985143\ttotal: 7.67s\tremaining: 2m 19s\n",
            "52:\tlearn: 0.5977234\ttotal: 7.83s\tremaining: 2m 19s\n",
            "53:\tlearn: 0.5970508\ttotal: 7.99s\tremaining: 2m 19s\n",
            "54:\tlearn: 0.5960415\ttotal: 8.15s\tremaining: 2m 20s\n",
            "55:\tlearn: 0.5954654\ttotal: 8.32s\tremaining: 2m 20s\n",
            "56:\tlearn: 0.5945524\ttotal: 8.48s\tremaining: 2m 20s\n",
            "57:\tlearn: 0.5936996\ttotal: 8.64s\tremaining: 2m 20s\n",
            "58:\tlearn: 0.5927560\ttotal: 8.8s\tremaining: 2m 20s\n",
            "59:\tlearn: 0.5922413\ttotal: 8.96s\tremaining: 2m 20s\n",
            "60:\tlearn: 0.5916041\ttotal: 9.12s\tremaining: 2m 20s\n"
          ],
          "name": "stdout"
        }
      ]
    }
  ]
}