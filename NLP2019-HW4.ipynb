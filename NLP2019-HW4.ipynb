{
 "cells": [
  {
   "cell_type": "markdown",
   "metadata": {},
   "source": [
    "# Wordnet (Домашняя работа 4)\n",
    "\n",
    "#### В этот раз мы работаем в Wordnet, а именно нам необходимо самим реализовать алгоритм Леска\n",
    "\n",
    "Импортируем всё необходимое"
   ]
  },
  {
   "cell_type": "code",
   "execution_count": 245,
   "metadata": {},
   "outputs": [],
   "source": [
    "from nltk.stem.snowball import EnglishStemmer\n",
    "from nltk.corpus import wordnet as wn\n",
    "from string import punctuation\n",
    "from collections import defaultdict\n",
    "\n",
    "import warnings\n",
    "warnings.filterwarnings('ignore')\n",
    "\n",
    "stemmer = EnglishStemmer()\n",
    "\n",
    "punct = punctuation + '«»—…“”*№–'"
   ]
  },
  {
   "cell_type": "markdown",
   "metadata": {},
   "source": [
    "#### Теперь, реализуем функцию, которая будет принимать на вход какой-то текст и разбивать его на слово и его контекст"
   ]
  },
  {
   "cell_type": "code",
   "execution_count": 246,
   "metadata": {},
   "outputs": [],
   "source": [
    "def get_words_in_context(text, window = 3):\n",
    "    words = text.split()\n",
    "    for num, word in enumerate(words):\n",
    "        if num <= window:\n",
    "            yield (word, words[:num] + words[num + 1:num + 1 + window])\n",
    "        else:\n",
    "            yield (word, words[num - window:num] + words[num + 1 :num + 1 + window])"
   ]
  },
  {
   "cell_type": "markdown",
   "metadata": {},
   "source": [
    "#### Давайте наберем какой-нибудь текст и проверим работу нашей функции"
   ]
  },
  {
   "cell_type": "code",
   "execution_count": 247,
   "metadata": {},
   "outputs": [],
   "source": [
    "text = '''After swearing off music due to an incident\n",
    "at the middle school regional concert band competition,\n",
    "euphonist Kumiko Oumae enters high school hoping for a fresh start.'''"
   ]
  },
  {
   "cell_type": "markdown",
   "metadata": {},
   "source": [
    "#### Смотрим, что получается..."
   ]
  },
  {
   "cell_type": "code",
   "execution_count": 248,
   "metadata": {},
   "outputs": [
    {
     "data": {
      "text/plain": [
       "[('After', ['swearing', 'off', 'music']),\n",
       " ('swearing', ['After', 'off', 'music', 'due']),\n",
       " ('off', ['After', 'swearing', 'music', 'due', 'to']),\n",
       " ('music', ['After', 'swearing', 'off', 'due', 'to', 'an']),\n",
       " ('due', ['swearing', 'off', 'music', 'to', 'an', 'incident']),\n",
       " ('to', ['off', 'music', 'due', 'an', 'incident', 'at']),\n",
       " ('an', ['music', 'due', 'to', 'incident', 'at', 'the']),\n",
       " ('incident', ['due', 'to', 'an', 'at', 'the', 'middle']),\n",
       " ('at', ['to', 'an', 'incident', 'the', 'middle', 'school']),\n",
       " ('the', ['an', 'incident', 'at', 'middle', 'school', 'regional']),\n",
       " ('middle', ['incident', 'at', 'the', 'school', 'regional', 'concert']),\n",
       " ('school', ['at', 'the', 'middle', 'regional', 'concert', 'band']),\n",
       " ('regional', ['the', 'middle', 'school', 'concert', 'band', 'competition,']),\n",
       " ('concert',\n",
       "  ['middle', 'school', 'regional', 'band', 'competition,', 'euphonist']),\n",
       " ('band',\n",
       "  ['school', 'regional', 'concert', 'competition,', 'euphonist', 'Kumiko']),\n",
       " ('competition,',\n",
       "  ['regional', 'concert', 'band', 'euphonist', 'Kumiko', 'Oumae']),\n",
       " ('euphonist',\n",
       "  ['concert', 'band', 'competition,', 'Kumiko', 'Oumae', 'enters']),\n",
       " ('Kumiko', ['band', 'competition,', 'euphonist', 'Oumae', 'enters', 'high']),\n",
       " ('Oumae',\n",
       "  ['competition,', 'euphonist', 'Kumiko', 'enters', 'high', 'school']),\n",
       " ('enters', ['euphonist', 'Kumiko', 'Oumae', 'high', 'school', 'hoping']),\n",
       " ('high', ['Kumiko', 'Oumae', 'enters', 'school', 'hoping', 'for']),\n",
       " ('school', ['Oumae', 'enters', 'high', 'hoping', 'for', 'a']),\n",
       " ('hoping', ['enters', 'high', 'school', 'for', 'a', 'fresh']),\n",
       " ('for', ['high', 'school', 'hoping', 'a', 'fresh', 'start.']),\n",
       " ('a', ['school', 'hoping', 'for', 'fresh', 'start.']),\n",
       " ('fresh', ['hoping', 'for', 'a', 'start.']),\n",
       " ('start.', ['for', 'a', 'fresh'])]"
      ]
     },
     "execution_count": 248,
     "metadata": {},
     "output_type": "execute_result"
    }
   ],
   "source": [
    "list(get_words_in_context(text))"
   ]
  },
  {
   "cell_type": "markdown",
   "metadata": {},
   "source": [
    "#### Неплохо, тепер можно переходить к написанию нашего алгоритма.\n",
    "\n",
    "Замечу, что на предыдущем этапе я не чистил пунктуацию и не проводил предобработку слов, поэтому проведу это уже в самом алгоритме."
   ]
  },
  {
   "cell_type": "code",
   "execution_count": 249,
   "metadata": {},
   "outputs": [],
   "source": [
    "def lesk(word, context):\n",
    "    \n",
    "    word = word.strip(punct)\n",
    "    \n",
    "    synsets = [item for item in wn.synsets(word)]\n",
    "        \n",
    "    definitions = [set(item.definition().lower().strip(punct).split()) for item in synsets]\n",
    "    context = set([w.lower().strip(punct) for w in context])\n",
    "    \n",
    "    stem_defs = [set([stemmer.stem(word) for word in item]) for item in definitions]\n",
    "    stem_context = set([stemmer.stem(word) for word in context])\n",
    "    \n",
    "    if stem_defs:\n",
    "        scores = defaultdict()\n",
    "        \n",
    "        for num, item in enumerate(stem_defs):\n",
    "            scores[num] = (len(item.intersection(stem_context)),\n",
    "                           synsets[num].definition())\n",
    "        \n",
    "        best = sorted(scores, key=lambda x: scores.get(x)[0], reverse=True)[0]\n",
    "        return (word, context, scores[best])\n",
    "    \n",
    "    else:\n",
    "        return 'Cannot find any definition for word \"{}\"'.format(word)\n",
    "    \n",
    "def get_lesk(word, context):\n",
    "    result = lesk(word, context)\n",
    "    if isinstance(result, str):\n",
    "        return result\n",
    "    else:\n",
    "        return '''\n",
    "        Input word:\\t{}\n",
    "        Word context:\\t{}\n",
    "        Definition:\\t{}\n",
    "        Intersection:\\t{}\n",
    "        '''.format(result[0],\n",
    "                   ', '.join(result[1]),\n",
    "                   result[2][1],\n",
    "                   result[2][0])"
   ]
  },
  {
   "cell_type": "markdown",
   "metadata": {},
   "source": [
    "#### Итак, у нас есть функция *get_lesk* которая выдает либо текст с найденной информацией, либо сообщает, что не удалось обнаружить определения для какого-то слова. Давайте опробуем, что получилось, на примере уже имеющегося текста\n",
    "\n",
    "    Первый элемент – слово\n",
    "    Второй элемент – контекст"
   ]
  },
  {
   "cell_type": "code",
   "execution_count": 250,
   "metadata": {},
   "outputs": [
    {
     "name": "stdout",
     "output_type": "stream",
     "text": [
      "\n",
      "        Input word:\tschool\n",
      "        Word context:\tband, regional, the, middle, at, concert\n",
      "        Definition:\tthe process of being formally educated at a school\n",
      "        Intersection:\t2\n",
      "        \n"
     ]
    }
   ],
   "source": [
    "print(get_lesk(list(get_words_in_context(text))[11][0],\n",
    "               list(get_words_in_context(text))[11][1]))"
   ]
  },
  {
   "cell_type": "code",
   "execution_count": 251,
   "metadata": {},
   "outputs": [
    {
     "name": "stdout",
     "output_type": "stream",
     "text": [
      "\n",
      "        Input word:\tAfter\n",
      "        Word context:\tmusic, off, swearing\n",
      "        Definition:\tlocated farther aft\n",
      "        Intersection:\t0\n",
      "        \n",
      "\n",
      "        Input word:\tswearing\n",
      "        Word context:\tmusic, after, due, off\n",
      "        Definition:\tprofane or obscene expression usually of surprise or anger\n",
      "        Intersection:\t0\n",
      "        \n",
      "\n",
      "        Input word:\toff\n",
      "        Word context:\tmusic, after, swearing, due, to\n",
      "        Definition:\tkill intentionally and with premeditation\n",
      "        Intersection:\t0\n",
      "        \n",
      "\n",
      "        Input word:\tmusic\n",
      "        Word context:\tafter, an, off, swearing, due, to\n",
      "        Definition:\tan artistic form of auditory communication incorporating instrumental or vocal tones in a structured and continuous manner\n",
      "        Intersection:\t1\n",
      "        \n",
      "\n",
      "        Input word:\tdue\n",
      "        Word context:\tmusic, an, off, swearing, incident, to\n",
      "        Definition:\tscheduled to arrive\n",
      "        Intersection:\t1\n",
      "        \n",
      "Cannot find any definition for word \"to\"\n",
      "\n",
      "        Input word:\tan\n",
      "        Word context:\tmusic, the, at, due, incident, to\n",
      "        Definition:\tan associate degree in nursing\n",
      "        Intersection:\t0\n",
      "        \n",
      "\n",
      "        Input word:\tincident\n",
      "        Word context:\tthe, an, middle, at, due, to\n",
      "        Definition:\ta single distinct event\n",
      "        Intersection:\t0\n",
      "        \n",
      "\n",
      "        Input word:\tat\n",
      "        Word context:\tthe, an, middle, incident, to, school\n",
      "        Definition:\ta highly unstable radioactive element (the heaviest of the halogen series); a decay product of uranium and thorium\n",
      "        Intersection:\t1\n",
      "        \n",
      "Cannot find any definition for word \"the\"\n",
      "\n",
      "        Input word:\tmiddle\n",
      "        Word context:\tregional, the, at, concert, incident, school\n",
      "        Definition:\tbeing neither at the beginning nor at the end in a series\n",
      "        Intersection:\t2\n",
      "        \n",
      "\n",
      "        Input word:\tschool\n",
      "        Word context:\tband, regional, the, middle, at, concert\n",
      "        Definition:\tthe process of being formally educated at a school\n",
      "        Intersection:\t2\n",
      "        \n",
      "\n",
      "        Input word:\tregional\n",
      "        Word context:\tband, the, competition, middle, concert, school\n",
      "        Definition:\tcharacteristic of a region\n",
      "        Intersection:\t0\n",
      "        \n",
      "\n",
      "        Input word:\tconcert\n",
      "        Word context:\tband, euphonist, regional, competition, middle, school\n",
      "        Definition:\ta performance of music by players or singers not involving theatrical staging\n",
      "        Intersection:\t0\n",
      "        \n",
      "\n",
      "        Input word:\tband\n",
      "        Word context:\teuphonist, regional, competition, kumiko, concert, school\n",
      "        Definition:\tan unofficial association of people or groups\n",
      "        Intersection:\t0\n",
      "        \n",
      "\n",
      "        Input word:\tcompetition\n",
      "        Word context:\tband, euphonist, regional, kumiko, oumae, concert\n",
      "        Definition:\ta business relation in which two parties compete to gain customers\n",
      "        Intersection:\t0\n",
      "        \n",
      "Cannot find any definition for word \"euphonist\"\n",
      "Cannot find any definition for word \"Kumiko\"\n",
      "Cannot find any definition for word \"Oumae\"\n",
      "\n",
      "        Input word:\tenters\n",
      "        Word context:\teuphonist, kumiko, hoping, oumae, high, school\n",
      "        Definition:\tto come or go into\n",
      "        Intersection:\t0\n",
      "        \n",
      "\n",
      "        Input word:\thigh\n",
      "        Word context:\tfor, kumiko, hoping, oumae, enters, school\n",
      "        Definition:\ta public secondary school usually including grades 9 through 12\n",
      "        Intersection:\t1\n",
      "        \n",
      "\n",
      "        Input word:\tschool\n",
      "        Word context:\ta, hoping, for, enters, oumae, high\n",
      "        Definition:\ta building where young people receive education\n",
      "        Intersection:\t1\n",
      "        \n",
      "\n",
      "        Input word:\thoping\n",
      "        Word context:\ta, fresh, for, enters, high, school\n",
      "        Definition:\ttraverse as if by a short airplane trip\n",
      "        Intersection:\t1\n",
      "        \n",
      "Cannot find any definition for word \"for\"\n",
      "\n",
      "        Input word:\ta\n",
      "        Word context:\tfresh, hoping, start, for, school\n",
      "        Definition:\tany of several fat-soluble vitamins essential for normal vision; prevents night blindness or inflammation or dryness of the eyes\n",
      "        Intersection:\t1\n",
      "        \n",
      "\n",
      "        Input word:\tfresh\n",
      "        Word context:\ta, hoping, start, for\n",
      "        Definition:\t(of a cycle) beginning or occurring again\n",
      "        Intersection:\t1\n",
      "        \n",
      "\n",
      "        Input word:\tstart\n",
      "        Word context:\ta, fresh, for\n",
      "        Definition:\ta turn to be a starter (in a game at the beginning)\n",
      "        Intersection:\t1\n",
      "        \n"
     ]
    }
   ],
   "source": [
    "for item in get_words_in_context(text):\n",
    "    print(get_lesk(item[0],\n",
    "                   list(item[1])))"
   ]
  },
  {
   "cell_type": "markdown",
   "metadata": {},
   "source": [
    "Можно заметить, что очень часто определеяющими становятся стоп-слова, давайте попробуем убрать их и повторить тест"
   ]
  },
  {
   "cell_type": "code",
   "execution_count": 257,
   "metadata": {},
   "outputs": [],
   "source": [
    "from stop_words import get_stop_words\n",
    "\n",
    "stops = get_stop_words('en')\n",
    "\n",
    "def lesk_stops(word, context):\n",
    "    \n",
    "    word = word.strip(punct)\n",
    "    \n",
    "    synsets = [item for item in wn.synsets(word)]\n",
    "        \n",
    "    definitions = [set(item.definition().lower().strip(punct).split()) for item in synsets]\n",
    "    context = set([w.lower().strip(punct) for w in context])\n",
    "    \n",
    "    stem_defs = [set([stemmer.stem(word) for word in item]) for item in definitions]\n",
    "    stem_context = set([stemmer.stem(word) for word in context])\n",
    "    \n",
    "    if stem_defs:\n",
    "        scores = defaultdict()\n",
    "        \n",
    "        for num, item in enumerate(stem_defs):\n",
    "            scores[num] = (len(item.intersection(stem_context - set(stops))),\n",
    "                           synsets[num].definition())\n",
    "        \n",
    "        best = sorted(scores, key=lambda x: scores.get(x)[0], reverse=True)[0]\n",
    "        return (word, context, scores[best])\n",
    "    \n",
    "    else:\n",
    "        return 'Cannot find any definition for word \"{}\"'.format(word)\n",
    "    \n",
    "def get_lesk_stops(word, context):\n",
    "    result = lesk_stops(word, context)\n",
    "    if isinstance(result, str):\n",
    "        return result\n",
    "    else:\n",
    "        return '''\n",
    "        Input word:\\t{}\n",
    "        Word context:\\t{}\n",
    "        Definition:\\t{}\n",
    "        Intersection:\\t{}\n",
    "        '''.format(result[0],\n",
    "                   ', '.join(result[1]),\n",
    "                   result[2][1],\n",
    "                   result[2][0])"
   ]
  },
  {
   "cell_type": "code",
   "execution_count": 258,
   "metadata": {},
   "outputs": [
    {
     "name": "stdout",
     "output_type": "stream",
     "text": [
      "\n",
      "        Input word:\tschool\n",
      "        Word context:\tband, regional, the, middle, at, concert\n",
      "        Definition:\tan educational institution\n",
      "        Intersection:\t0\n",
      "        \n"
     ]
    }
   ],
   "source": [
    "print(get_lesk_stops(list(get_words_in_context(text))[11][0],\n",
    "                     list(get_words_in_context(text))[11][1]))"
   ]
  },
  {
   "cell_type": "markdown",
   "metadata": {},
   "source": [
    "#### Можно заметить, что результат изменился... И возможно даже в лучшую сторону.\n",
    "\n",
    "Повторим тест с целым текстом, но мозьмем текст поменьше (чтобы сократить аутпут)."
   ]
  },
  {
   "cell_type": "code",
   "execution_count": 254,
   "metadata": {},
   "outputs": [],
   "source": [
    "new_text = 'The world rarely sees so much talent wrapped into one person'"
   ]
  },
  {
   "cell_type": "code",
   "execution_count": 255,
   "metadata": {},
   "outputs": [],
   "source": [
    "def compareit(word, context):\n",
    "    result1 = lesk(word, context)\n",
    "    result2 = lesk_stops(word, context)\n",
    "    if isinstance(result1, str) or isinstance(result2, str):\n",
    "        return result1\n",
    "    else:\n",
    "        return '''\n",
    "        Input word:\\t\\t{}\n",
    "        Word context:\\t\\t{}\n",
    "        Definition:\\t\\t{}\n",
    "        Intersection:\\t\\t{}\n",
    "        Definition (stops):\\t{}\n",
    "        Intersection (stops):\\t{}\n",
    "        '''.format(result1[0],\n",
    "                   ', '.join(result1[1]),\n",
    "                   result1[2][1],\n",
    "                   result1[2][0],\n",
    "                   result2[2][1],\n",
    "                   result2[2][0])"
   ]
  },
  {
   "cell_type": "code",
   "execution_count": 256,
   "metadata": {},
   "outputs": [
    {
     "name": "stdout",
     "output_type": "stream",
     "text": [
      "Cannot find any definition for word \"The\"\n",
      "\n",
      "        Input word:\t\tworld\n",
      "        Word context:\t\tthe, rarely, sees, so\n",
      "        Definition:\t\tthe 3rd planet from the sun; the planet we live on\n",
      "        Intersection:\t\t1\n",
      "        Definition (stops):\teverything that exists anywhere\n",
      "        Intersection (stops):\t0\n",
      "        \n",
      "\n",
      "        Input word:\t\trarely\n",
      "        Word context:\t\tsees, the, so, much, world\n",
      "        Definition:\t\tnot often\n",
      "        Intersection:\t\t0\n",
      "        Definition (stops):\tnot often\n",
      "        Intersection (stops):\t0\n",
      "        \n",
      "\n",
      "        Input word:\t\tsees\n",
      "        Word context:\t\tthe, rarely, so, much, talent, world\n",
      "        Definition:\t\tthe seat within a bishop's diocese where his cathedral is located\n",
      "        Intersection:\t\t1\n",
      "        Definition (stops):\tthe seat within a bishop's diocese where his cathedral is located\n",
      "        Intersection (stops):\t0\n",
      "        \n",
      "\n",
      "        Input word:\t\tso\n",
      "        Word context:\t\twrapped, sees, rarely, much, talent, world\n",
      "        Definition:\t\tthe syllable naming the fifth (dominant) note of any musical scale in solmization\n",
      "        Intersection:\t\t0\n",
      "        Definition (stops):\tthe syllable naming the fifth (dominant) note of any musical scale in solmization\n",
      "        Intersection (stops):\t0\n",
      "        \n",
      "\n",
      "        Input word:\t\tmuch\n",
      "        Word context:\t\twrapped, rarely, so, into, talent, sees\n",
      "        Definition:\t\ta great amount or extent\n",
      "        Intersection:\t\t0\n",
      "        Definition (stops):\ta great amount or extent\n",
      "        Intersection (stops):\t0\n",
      "        \n",
      "\n",
      "        Input word:\t\ttalent\n",
      "        Word context:\t\twrapped, so, into, much, one, sees\n",
      "        Definition:\t\tnatural abilities or qualities\n",
      "        Intersection:\t\t0\n",
      "        Definition (stops):\tnatural abilities or qualities\n",
      "        Intersection (stops):\t0\n",
      "        \n",
      "\n",
      "        Input word:\t\twrapped\n",
      "        Word context:\t\tso, into, person, much, one, talent\n",
      "        Definition:\t\tcrash into so as to coil around\n",
      "        Intersection:\t\t2\n",
      "        Definition (stops):\tarrange or fold as a cover or protection\n",
      "        Intersection (stops):\t0\n",
      "        \n",
      "Cannot find any definition for word \"into\"\n",
      "\n",
      "        Input word:\t\tone\n",
      "        Word context:\t\tinto, talent, wrapped, person\n",
      "        Definition:\t\ta single person or thing\n",
      "        Intersection:\t\t1\n",
      "        Definition (stops):\ta single person or thing\n",
      "        Intersection (stops):\t1\n",
      "        \n",
      "\n",
      "        Input word:\t\tperson\n",
      "        Word context:\t\tinto, wrapped, one\n",
      "        Definition:\t\ta human being\n",
      "        Intersection:\t\t0\n",
      "        Definition (stops):\ta human being\n",
      "        Intersection (stops):\t0\n",
      "        \n"
     ]
    }
   ],
   "source": [
    "for item in get_words_in_context(new_text):\n",
    "    print(compareit(item[0],\n",
    "                    list(item[1])))"
   ]
  },
  {
   "cell_type": "markdown",
   "metadata": {},
   "source": [
    "## P.S.\n",
    "\n",
    "#### Получилась вот такая интересная работа, простите за какие-то ошибки, увлекся и заканчиваю очень поздно)"
   ]
  }
 ],
 "metadata": {
  "kernelspec": {
   "display_name": "Python 3",
   "language": "python",
   "name": "python3"
  },
  "language_info": {
   "codemirror_mode": {
    "name": "ipython",
    "version": 3
   },
   "file_extension": ".py",
   "mimetype": "text/x-python",
   "name": "python",
   "nbconvert_exporter": "python",
   "pygments_lexer": "ipython3",
   "version": "3.6.7"
  }
 },
 "nbformat": 4,
 "nbformat_minor": 2
}
