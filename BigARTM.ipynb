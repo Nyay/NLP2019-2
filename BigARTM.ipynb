{
  "nbformat": 4,
  "nbformat_minor": 0,
  "metadata": {
    "colab": {
      "name": "BigARTM.ipynb",
      "version": "0.3.2",
      "provenance": [],
      "collapsed_sections": []
    },
    "kernelspec": {
      "name": "python3",
      "display_name": "Python 3"
    }
  },
  "cells": [
    {
      "metadata": {
        "id": "TxXMUheXTbI3",
        "colab_type": "text"
      },
      "cell_type": "markdown",
      "source": [
        "# BigARTM \n",
        "---\n",
        "Ответы на вопросы из задания, я поместил в самом конце тетради. Там я выделил три самые четкие топика и ответил на вопросы про параметры.\n"
      ]
    },
    {
      "metadata": {
        "id": "_0kPFW5xftw0",
        "colab_type": "code",
        "colab": {}
      },
      "cell_type": "code",
      "source": [
        "# Stop-words and punctuation for normalize function\n",
        "from stop_words import get_stop_words\n",
        "from string import punctuation\n",
        "\n",
        "# Oper\n",
        "import re\n",
        "import gensim\n",
        "import pickle\n",
        "import numpy as np\n",
        "import pandas as pd\n",
        "from collections import Counter\n",
        "import matplotlib.pyplot as plt\n",
        "\n",
        "import artm\n",
        "\n",
        "# NLTK and pymorphy for normalize function \n",
        "from nltk import word_tokenize\n",
        "from nltk.stem.lancaster import LancasterStemmer\n",
        "from pymorphy2 import MorphAnalyzer\n",
        "\n",
        "morph = MorphAnalyzer()\n",
        "\n",
        "stemmer = LancasterStemmer()\n",
        "\n",
        "punct = punctuation + '«»—…“”*№–'\n",
        "\n",
        "stop_words = get_stop_words('russian')\n",
        "\n",
        "import warnings\n",
        "warnings.filterwarnings(\"ignore\",category=DeprecationWarning)"
      ],
      "execution_count": 0,
      "outputs": []
    },
    {
      "metadata": {
        "id": "TUZAkBlWgIo4",
        "colab_type": "code",
        "colab": {
          "base_uri": "https://localhost:8080/",
          "height": 309
        },
        "outputId": "a4b46922-8676-4963-f4bc-cdfbd793faf1"
      },
      "cell_type": "code",
      "source": [
        "!wget https://github.com/mannefedov/compling_nlp_hse_course/raw/master/data/habr_texts.txt.zip"
      ],
      "execution_count": 14,
      "outputs": [
        {
          "output_type": "stream",
          "text": [
            "--2018-11-25 10:53:39--  https://github.com/mannefedov/compling_nlp_hse_course/raw/master/data/habr_texts.txt.zip\n",
            "Resolving github.com (github.com)... 192.30.253.112, 192.30.253.113\n",
            "Connecting to github.com (github.com)|192.30.253.112|:443... connected.\n",
            "HTTP request sent, awaiting response... 302 Found\n",
            "Location: https://raw.githubusercontent.com/mannefedov/compling_nlp_hse_course/master/data/habr_texts.txt.zip [following]\n",
            "--2018-11-25 10:53:40--  https://raw.githubusercontent.com/mannefedov/compling_nlp_hse_course/master/data/habr_texts.txt.zip\n",
            "Resolving raw.githubusercontent.com (raw.githubusercontent.com)... 151.101.0.133, 151.101.64.133, 151.101.128.133, ...\n",
            "Connecting to raw.githubusercontent.com (raw.githubusercontent.com)|151.101.0.133|:443... connected.\n",
            "HTTP request sent, awaiting response... 200 OK\n",
            "Length: 18645068 (18M) [application/zip]\n",
            "Saving to: ‘habr_texts.txt.zip’\n",
            "\n",
            "\rhabr_texts.txt.zip    0%[                    ]       0  --.-KB/s               \rhabr_texts.txt.zip   98%[==================> ]  17.54M  86.3MB/s               \rhabr_texts.txt.zip  100%[===================>]  17.78M  86.9MB/s    in 0.2s    \n",
            "\n",
            "2018-11-25 10:53:40 (86.9 MB/s) - ‘habr_texts.txt.zip’ saved [18645068/18645068]\n",
            "\n"
          ],
          "name": "stdout"
        }
      ]
    },
    {
      "metadata": {
        "id": "6WW02vKBftz6",
        "colab_type": "code",
        "colab": {
          "base_uri": "https://localhost:8080/",
          "height": 51
        },
        "outputId": "4c4bba70-ccb4-40f8-f447-fb7b208787ff"
      },
      "cell_type": "code",
      "source": [
        "!unzip habr_texts.txt.zip"
      ],
      "execution_count": 15,
      "outputs": [
        {
          "output_type": "stream",
          "text": [
            "Archive:  habr_texts.txt.zip\n",
            "  inflating: habr_texts.txt          \n"
          ],
          "name": "stdout"
        }
      ]
    },
    {
      "metadata": {
        "id": "o8pavVhsgSOc",
        "colab_type": "code",
        "colab": {}
      },
      "cell_type": "code",
      "source": [
        "def remove_tags(text):\n",
        "    return re.sub(r'<[^>]+>', '', text)\n",
        "\n",
        "def normalize(text):\n",
        "    \n",
        "    words = [word.strip(punct) for word in remove_tags(text.lower()).split()]\n",
        "    words = [morph.parse(word)[0] for word in words if word]\n",
        "    words = [word for word in words if word not in get_stop_words('russian')]\n",
        "    words = [word.normal_form for word in words if word.tag.POS == 'NOUN']\n",
        "    words = [stemmer.stem(word) for word in words]\n",
        "            \n",
        "    return words"
      ],
      "execution_count": 0,
      "outputs": []
    },
    {
      "metadata": {
        "id": "K9RFz6cLtQvs",
        "colab_type": "code",
        "colab": {}
      },
      "cell_type": "code",
      "source": [
        "%%time\n",
        "with open('habr_texts.txt') as file:\n",
        "  data = file.read().splitlines()\n",
        "    \n",
        "texts = []\n",
        "    \n",
        "for text in data:\n",
        "  texts.append(normalize(text))"
      ],
      "execution_count": 0,
      "outputs": []
    },
    {
      "metadata": {
        "id": "z_ckqDeMhMAM",
        "colab_type": "code",
        "colab": {
          "base_uri": "https://localhost:8080/",
          "height": 51
        },
        "outputId": "e18dcabc-d031-4660-c2d5-59ae7bcd97a3"
      },
      "cell_type": "code",
      "source": [
        "%%time\n",
        "\n",
        "ph = gensim.models.Phrases(data, scoring='npmi', threshold=0.4)\n",
        "p = gensim.models.phrases.Phraser(ph)\n",
        "ngrammed_texts = p[texts]"
      ],
      "execution_count": 35,
      "outputs": [
        {
          "output_type": "stream",
          "text": [
            "CPU times: user 1min 18s, sys: 28.8 ms, total: 1min 18s\n",
            "Wall time: 1min 18s\n"
          ],
          "name": "stdout"
        }
      ]
    },
    {
      "metadata": {
        "id": "YT6Fg8pBmOdC",
        "colab_type": "code",
        "colab": {}
      },
      "cell_type": "code",
      "source": [
        "with open('ngrammed_texts.pickle', 'wb') as f:\n",
        "    pickle.dump(ngrammed_texts, f)"
      ],
      "execution_count": 0,
      "outputs": []
    },
    {
      "metadata": {
        "id": "QuvZzXipmSa7",
        "colab_type": "code",
        "colab": {}
      },
      "cell_type": "code",
      "source": [
        "with open('ngrammed_texts.pickle', 'rb') as f:\n",
        "    ngrammed_texts = pickle.load(f)"
      ],
      "execution_count": 0,
      "outputs": []
    },
    {
      "metadata": {
        "id": "5NPmQ30XhQ-h",
        "colab_type": "code",
        "colab": {}
      },
      "cell_type": "code",
      "source": [
        "with open('habr_texts.vw', 'w') as file:\n",
        "  for i, text in enumerate(ngrammed_texts):\n",
        "    c = Counter(text)\n",
        "    doc = 'doc_'+ str(i) + ' '\n",
        "    vw_text = ' '.join([x.replace(':', '')+':'+str(c[x]) for x in c])\n",
        "    file.write(doc + vw_text  + '\\n')"
      ],
      "execution_count": 0,
      "outputs": []
    },
    {
      "metadata": {
        "id": "XmasMO2qhSOG",
        "colab_type": "code",
        "colab": {}
      },
      "cell_type": "code",
      "source": [
        "def print_measures(model_artm):\n",
        "    print('Sparsity Phi: {0:.3f} ARTM)'.format(\n",
        "        model_artm.score_tracker['SparsityPhiScore'].last_value)\n",
        ")\n",
        "    print('Sparsity Theta: {0:.3f} (ARTM)'.format(\n",
        "        model_artm.score_tracker['SparsityThetaScore'].last_value))\n",
        "\n",
        "    print('Kernel contrast: {0:.3f} (ARTM)'.format(\n",
        "        model_artm.score_tracker['TopicKernelScore'].last_average_contrast))\n",
        "\n",
        "    print('Kernel purity: {0:.3f} (ARTM)'.format(\n",
        "        model_artm.score_tracker['TopicKernelScore'].last_average_purity))\n",
        "\n",
        "    print('Perplexity: {0:.3f} (ARTM)'.format(\n",
        "        model_artm.score_tracker['PerplexityScore'].last_value)\n",
        ")\n",
        "    plt.plot(range(model_artm.num_phi_updates), model_artm.score_tracker['PerplexityScore'].value, 'r--', linewidth=2)\n",
        "    plt.xlabel('Iterations count')\n",
        "    plt.ylabel(' ARTM perp. (red)')\n",
        "    plt.grid(True)\n",
        "    plt.show()"
      ],
      "execution_count": 0,
      "outputs": []
    },
    {
      "metadata": {
        "id": "gYTKNjYcvr1V",
        "colab_type": "code",
        "colab": {}
      },
      "cell_type": "code",
      "source": [
        "batch_vectorizer = artm.BatchVectorizer(data_path='habr_texts.vw',\n",
        "                                        data_format='vowpal_wabbit',\n",
        "                                        target_folder='batches',\n",
        "                                        batch_size=2500)"
      ],
      "execution_count": 0,
      "outputs": []
    },
    {
      "metadata": {
        "id": "Xfo331oLv7jY",
        "colab_type": "code",
        "colab": {}
      },
      "cell_type": "code",
      "source": [
        "batch_vectorizer = artm.BatchVectorizer(data_path='batches',\n",
        "                                        data_format='batches')"
      ],
      "execution_count": 0,
      "outputs": []
    },
    {
      "metadata": {
        "id": "6F_3WVhPwD5c",
        "colab_type": "code",
        "colab": {}
      },
      "cell_type": "code",
      "source": [
        "dictionary = artm.Dictionary()"
      ],
      "execution_count": 0,
      "outputs": []
    },
    {
      "metadata": {
        "id": "kgmQFTqRwKwQ",
        "colab_type": "code",
        "colab": {
          "base_uri": "https://localhost:8080/",
          "height": 34
        },
        "outputId": "5aa37034-181a-4c9b-9832-10401de889b0"
      },
      "cell_type": "code",
      "source": [
        "dictionary.gather(data_path='batches')\n",
        "dictionary.filter(class_id='@default_class',\n",
        "                  min_df=10, max_df=2000)"
      ],
      "execution_count": 60,
      "outputs": [
        {
          "output_type": "execute_result",
          "data": {
            "text/plain": [
              "artm.Dictionary(name=dde7c1f1-b83c-4d7e-8fbb-9035860aaae8, num_entries=5595)"
            ]
          },
          "metadata": {
            "tags": []
          },
          "execution_count": 60
        }
      ]
    },
    {
      "metadata": {
        "id": "IGqHPnTEwM1I",
        "colab_type": "code",
        "colab": {}
      },
      "cell_type": "code",
      "source": [
        "dictionary.save_text('dict.txt')"
      ],
      "execution_count": 0,
      "outputs": []
    },
    {
      "metadata": {
        "id": "Vaa0M9Z-wQJ5",
        "colab_type": "code",
        "colab": {}
      },
      "cell_type": "code",
      "source": [
        "model_artm = artm.ARTM(topic_names=['topic_{}'.format(i) for i in range(600)],\n",
        "                       \n",
        "                       regularizers=[\n",
        "                           artm.DecorrelatorPhiRegularizer(\n",
        "                                            name='Decorr', tau=0.3, \n",
        "                                            class_ids=['@default_class'],\n",
        "                                            topic_names=['topic_{}'.format(i) for i in range(0, 600)]),\n",
        "                           \n",
        "                           artm.SmoothSparsePhiRegularizer(\n",
        "                                            name='SmoothPhi_1', \n",
        "                                            class_ids=['@default_class'],\n",
        "                                            tau=0.05, \n",
        "                                            topic_names=['topic_{}'.format(i) for i in range(0, 600)])\n",
        "                                    ]\n",
        "                        )"
      ],
      "execution_count": 0,
      "outputs": []
    },
    {
      "metadata": {
        "id": "CB4cfLzqwqNK",
        "colab_type": "code",
        "colab": {}
      },
      "cell_type": "code",
      "source": [
        "model_artm.initialize(dictionary)"
      ],
      "execution_count": 0,
      "outputs": []
    },
    {
      "metadata": {
        "id": "-hZ3ucgFxDvE",
        "colab_type": "code",
        "colab": {}
      },
      "cell_type": "code",
      "source": [
        "model_artm.scores.add(artm.PerplexityScore(name='PerplexityScore',\n",
        "                                                    dictionary=dictionary))\n",
        "model_artm.scores.add(artm.SparsityPhiScore(name='SparsityPhiScore'))\n",
        "model_artm.scores.add(artm.SparsityThetaScore(name='SparsityThetaScore'))\n",
        "model_artm.scores.add(artm.TopicKernelScore(name='TopicKernelScore',\n",
        "                                            probability_mass_threshold=0.1))\n",
        "model_artm.scores.add(artm.TopTokensScore(class_id='@default_class',\n",
        "                                          name='TopTokensScore_1', num_tokens=10))"
      ],
      "execution_count": 0,
      "outputs": []
    },
    {
      "metadata": {
        "id": "YRN8fLjKxSd9",
        "colab_type": "code",
        "colab": {}
      },
      "cell_type": "code",
      "source": [
        "model_artm.num_document_passes = 4\n",
        "model_artm.fit_offline(batch_vectorizer=batch_vectorizer, num_collection_passes=5)"
      ],
      "execution_count": 0,
      "outputs": []
    },
    {
      "metadata": {
        "id": "sTf0gk1U0IkL",
        "colab_type": "code",
        "colab": {
          "base_uri": "https://localhost:8080/",
          "height": 446
        },
        "outputId": "a1704ebc-ee5d-49df-801b-f3380407e917"
      },
      "cell_type": "code",
      "source": [
        "print_measures(model_artm)"
      ],
      "execution_count": 149,
      "outputs": [
        {
          "output_type": "stream",
          "text": [
            "Sparsity Phi: 0.000 ARTM)\n",
            "Sparsity Theta: 0.000 (ARTM)\n",
            "Kernel contrast: 0.047 (ARTM)\n",
            "Kernel purity: 0.019 (ARTM)\n",
            "Perplexity: 1184.416 (ARTM)\n"
          ],
          "name": "stdout"
        },
        {
          "output_type": "display_data",
          "data": {
            "image/png": "[encoded data removed]",
            "text/plain": [
              "<matplotlib.figure.Figure at 0x7fc83d47bc18>"
            ]
          },
          "metadata": {
            "tags": []
          }
        }
      ]
    },
    {
      "metadata": {
        "id": "DyvK21UV0o-F",
        "colab_type": "code",
        "colab": {}
      },
      "cell_type": "code",
      "source": [
        "model_artm.regularizers.add(artm.SmoothSparsePhiRegularizer(name='SparsePhi', tau=-0.1, \n",
        "                                                            topic_names=['topic_{}'.format(i) for i in range(1, 600)],\n",
        "                                                            ))\n",
        "model_artm.regularizers.add(artm.SmoothSparseThetaRegularizer(name='SparseTheta', tau=-0.3, \n",
        "                                                              topic_names=['topic_{}'.format(i) for i in range(1, 600)]))"
      ],
      "execution_count": 0,
      "outputs": []
    },
    {
      "metadata": {
        "id": "cz71TGbQ0sPP",
        "colab_type": "code",
        "colab": {}
      },
      "cell_type": "code",
      "source": [
        "model_artm.fit_offline(batch_vectorizer=batch_vectorizer,num_collection_passes=7)"
      ],
      "execution_count": 0,
      "outputs": []
    },
    {
      "metadata": {
        "id": "FrMZ-Sk-0w5O",
        "colab_type": "code",
        "colab": {}
      },
      "cell_type": "code",
      "source": [
        "phi_tau = model_artm.regularizers['SparsePhi'].tau\n",
        "theta_tau = model_artm.regularizers['SparseTheta'].tau\n",
        "\n",
        "for i in range(10):\n",
        "    model_artm.regularizers['SparsePhi'].tau = (phi_tau + (phi_tau*2))\n",
        "    model_artm.regularizers['SparseTheta'].tau = (theta_tau + (theta_tau*0.05))\n",
        "    \n",
        "    model_artm.fit_offline(batch_vectorizer=batch_vectorizer,num_collection_passes=1)"
      ],
      "execution_count": 0,
      "outputs": []
    },
    {
      "metadata": {
        "id": "FNqA75yC04eU",
        "colab_type": "code",
        "colab": {
          "base_uri": "https://localhost:8080/",
          "height": 446
        },
        "outputId": "efe406e3-0308-4f63-ca66-68bba8186b3c"
      },
      "cell_type": "code",
      "source": [
        "print_measures(model_artm)"
      ],
      "execution_count": 153,
      "outputs": [
        {
          "output_type": "stream",
          "text": [
            "Sparsity Phi: 0.324 ARTM)\n",
            "Sparsity Theta: 0.283 (ARTM)\n",
            "Kernel contrast: 0.339 (ARTM)\n",
            "Kernel purity: 0.498 (ARTM)\n",
            "Perplexity: 309.863 (ARTM)\n"
          ],
          "name": "stdout"
        },
        {
          "output_type": "display_data",
          "data": {
            "image/png": "[encoded data removed]",
            "text/plain": [
              "<matplotlib.figure.Figure at 0x7fc83dce52b0>"
            ]
          },
          "metadata": {
            "tags": []
          }
        }
      ]
    },
    {
      "metadata": {
        "id": "SG1eFRMz0-xV",
        "colab_type": "code",
        "colab": {
          "base_uri": "https://localhost:8080/",
          "height": 10217
        },
        "outputId": "4ab9fe1f-ede3-419a-bdcb-bc979cfd9b96"
      },
      "cell_type": "code",
      "source": [
        "for topic_name in model_artm.topic_names[:50]:\n",
        "    print(topic_name + ': ')\n",
        "    try:\n",
        "        for x in model_artm.score_tracker['TopTokensScore_1'].last_tokens[topic_name]:\n",
        "            print(x)\n",
        "        print('---------')\n",
        "    \n",
        "    except KeyError:\n",
        "        continue"
      ],
      "execution_count": 154,
      "outputs": [
        {
          "output_type": "stream",
          "text": [
            "topic_0: \n",
            "атрибут\n",
            "сохранение\n",
            "имя\n",
            "метаданные\n",
            "сериализация\n",
            "словарь\n",
            "вычисление\n",
            "умолчание\n",
            "основа\n",
            "способ\n",
            "---------\n",
            "topic_1: \n",
            "кабель\n",
            "адаптер\n",
            "розетка\n",
            "аксессуар\n",
            "провод\n",
            "разъём\n",
            "комплект\n",
            "пара\n",
            "устройство\n",
            "зарядка\n",
            "---------\n",
            "topic_2: \n",
            "курс\n",
            "лекция\n",
            "занятие\n",
            "основа\n",
            "практика\n",
            "преподаватель\n",
            "структура\n",
            "понятие\n",
            "знакомство\n",
            "введение\n",
            "---------\n",
            "topic_3: \n",
            "оценка\n",
            "показатель\n",
            "результат\n",
            "методика\n",
            "подразделение\n",
            "вид\n",
            "характеристика\n",
            "эксперимент\n",
            "проведение\n",
            "наличие\n",
            "---------\n",
            "topic_4: \n",
            "задержка\n",
            "прерывание\n",
            "частота\n",
            "порт\n",
            "режим\n",
            "мк\n",
            "регистр\n",
            "таймер\n",
            "передача\n",
            "часть\n",
            "---------\n",
            "topic_5: \n",
            "процесс\n",
            "способ\n",
            "вид\n",
            "момент\n",
            "имя\n",
            "образ\n",
            "количество\n",
            "ряд\n",
            "сторона\n",
            "дело\n",
            "---------\n",
            "topic_6: \n",
            "контроллер\n",
            "роль\n",
            "внимание\n",
            "фабрика\n",
            "часть\n",
            "действие\n",
            "качество\n",
            "образ\n",
            "серия\n",
            "название\n",
            "---------\n",
            "topic_7: \n",
            "кэш\n",
            "кэширование\n",
            "мейнтейнер\n",
            "брокер\n",
            "множество\n",
            "линус\n",
            "память\n",
            "размер\n",
            "статистика\n",
            "момент\n",
            "---------\n",
            "topic_8: \n",
            "доклад\n",
            "конференция\n",
            "спикер\n",
            "выступление\n",
            "докладчик\n",
            "тема\n",
            "вопрос\n",
            "организатор\n",
            "день\n",
            "уровень\n",
            "---------\n",
            "topic_9: \n",
            "программа\n",
            "название\n",
            "вид\n",
            "часть\n",
            "множество\n",
            "начало\n",
            "друг\n",
            "история\n",
            "способ\n",
            "мера\n",
            "---------\n",
            "topic_10: \n",
            "налог\n",
            "ооо\n",
            "ип\n",
            "взнос\n",
            "рубль\n",
            "доход\n",
            "деятельность\n",
            "учредитель\n",
            "ндс\n",
            "предприниматель\n",
            "---------\n",
            "topic_11: \n",
            "добавление\n",
            "профиль\n",
            "паттерн\n",
            "бизнес-логика\n",
            "логика\n",
            "действие\n",
            "имя\n",
            "администратор\n",
            "новое\n",
            "пользователь\n",
            "---------\n",
            "topic_12: \n",
            "скрипт\n",
            "секция\n",
            "запуск\n",
            "вид\n",
            "репозитарий\n",
            "документация\n",
            "зависимость\n",
            "момент\n",
            "действие\n",
            "качество\n",
            "---------\n",
            "topic_13: \n",
            "день\n",
            "неделя\n",
            "пара\n",
            "течение\n",
            "месяц\n",
            "утро\n",
            "дата\n",
            "сутки\n",
            "половина\n",
            "момент\n",
            "---------\n",
            "topic_14: \n",
            "вызов\n",
            "использование\n",
            "качество\n",
            "способ\n",
            "модификатор\n",
            "код\n",
            "наследование\n",
            "типизация\n",
            "размер\n",
            "конструктор\n",
            "---------\n",
            "topic_15: \n",
            "число\n",
            "цифра\n",
            "количество\n",
            "целое\n",
            "сумма\n",
            "вычисление\n",
            "округление\n",
            "порядок\n",
            "вид\n",
            "знак\n",
            "---------\n",
            "topic_16: \n",
            "проект\n",
            "момент\n",
            "начало\n",
            "реализация\n",
            "задача\n",
            "основа\n",
            "целое\n",
            "наработка\n",
            "итог\n",
            "часть\n",
            "---------\n",
            "topic_17: \n",
            "правило\n",
            "микросервис\n",
            "люба\n",
            "количество\n",
            "часть\n",
            "гибкость\n",
            "качество\n",
            "выбор\n",
            "структура\n",
            "образ\n",
            "---------\n",
            "topic_18: \n",
            "криптовалюта\n",
            "регулирование\n",
            "коммерция\n",
            "законопроект\n",
            "ассоциация\n",
            "представитель\n",
            "рф\n",
            "поправка\n",
            "отрасль\n",
            "законодательство\n",
            "---------\n",
            "topic_19: \n",
            "ноутбук\n",
            "гб\n",
            "память\n",
            "рубль\n",
            "гигабайт\n",
            "килограмм\n",
            "цена\n",
            "разрешение\n",
            "объём\n",
            "линейка\n",
            "---------\n",
            "topic_20: \n",
            "установка\n",
            "ос\n",
            "образ\n",
            "утилит\n",
            "дистрибутив\n",
            "запуск\n",
            "развёртывание\n",
            "инсталлятор\n",
            "администратор\n",
            "инсталляция\n",
            "---------\n",
            "topic_21: \n",
            "производительность\n",
            "использование\n",
            "ввод-вывод\n",
            "способность\n",
            "повышение\n",
            "уровень\n",
            "характеристика\n",
            "основное\n",
            "сравнение\n",
            "пространство\n",
            "---------\n",
            "topic_22: \n",
            "комната\n",
            "искажение\n",
            "эффект\n",
            "мелодия\n",
            "площадь\n",
            "проекция\n",
            "мяч\n",
            "иллюзия\n",
            "причина\n",
            "упоминание\n",
            "---------\n",
            "topic_23: \n",
            "запись\n",
            "хранение\n",
            "количество\n",
            "носитель\n",
            "режим\n",
            "информация\n",
            "качество\n",
            "размер\n",
            "необходимость\n",
            "объём\n",
            "---------\n",
            "topic_24: \n",
            "учёный\n",
            "реакция\n",
            "эксперимент\n",
            "синтез\n",
            "электрод\n",
            "плазма\n",
            "образ\n",
            "журнал\n",
            "поверхность\n",
            "жидкость\n",
            "---------\n",
            "topic_25: \n",
            "свет\n",
            "цвет\n",
            "цвета\n",
            "освещение\n",
            "цветок\n",
            "яркость\n",
            "оттенок\n",
            "палитра\n",
            "пиксель\n",
            "часть\n",
            "---------\n",
            "topic_26: \n",
            "вращение\n",
            "ося\n",
            "шарик\n",
            "кубик\n",
            "друг\n",
            "будильник\n",
            "моделирование\n",
            "граница\n",
            "вид\n",
            "поверхность\n",
            "---------\n",
            "topic_27: \n",
            "корпус\n",
            "светодиод\n",
            "микроконтроллер\n",
            "лампочка\n",
            "паяльник\n",
            "режим\n",
            "поверхность\n",
            "фонарик\n",
            "свет\n",
            "температура\n",
            "---------\n",
            "topic_28: \n",
            "условие\n",
            "фрагмент\n",
            "дефект\n",
            "вид\n",
            "оператор\n",
            "первое\n",
            "пример\n",
            "обращение\n",
            "участок\n",
            "ассоциация\n",
            "---------\n",
            "topic_29: \n",
            "ребёнок\n",
            "родитель\n",
            "ученик\n",
            "школьник\n",
            "учитель\n",
            "взрослый\n",
            "набор\n",
            "урок\n",
            "школа\n",
            "робототехника\n",
            "---------\n",
            "topic_30: \n",
            "лицо\n",
            "сцена\n",
            "архитектор\n",
            "зрение\n",
            "ландшафт\n",
            "масштаб\n",
            "впечатление\n",
            "ограничение\n",
            "пространство\n",
            "первое\n",
            "---------\n",
            "topic_31: \n",
            "список\n",
            "название\n",
            "часть\n",
            "шаг\n",
            "вид\n",
            "пример\n",
            "образ\n",
            "начало\n",
            "количество\n",
            "конец\n",
            "---------\n",
            "topic_32: \n",
            "дисплей\n",
            "акселерометр\n",
            "разъём\n",
            "датчик\n",
            "гироскоп\n",
            "наличие\n",
            "градус\n",
            "яркость\n",
            "торец\n",
            "матрица\n",
            "---------\n",
            "topic_33: \n",
            "магазин\n",
            "лампа\n",
            "касса\n",
            "женя\n",
            "пульсация\n",
            "фонарь\n",
            "свет\n",
            "лампочка\n",
            "чек\n",
            "помещение\n",
            "---------\n",
            "topic_34: \n",
            "пакет\n",
            "зависимость\n",
            "порядок\n",
            "уровень\n",
            "введение\n",
            "конец\n",
            "статистика\n",
            "структура\n",
            "момент\n",
            "количество\n",
            "---------\n",
            "topic_35: \n",
            "директория\n",
            "терминал\n",
            "файл\n",
            "запуск\n",
            "имя\n",
            "флаг\n",
            "исходник\n",
            "демон\n",
            "содержимое\n",
            "утилит\n",
            "---------\n",
            "topic_36: \n",
            "инструмент\n",
            "ряд\n",
            "выбор\n",
            "большинство\n",
            "вид\n",
            "сторона\n",
            "способ\n",
            "часть\n",
            "транспорт\n",
            "автор\n",
            "---------\n",
            "topic_37: \n",
            "слайд\n",
            "рассказ\n",
            "картинка\n",
            "момент\n",
            "ширина\n",
            "слайдер\n",
            "конец\n",
            "зрение\n",
            "смысл\n",
            "внимание\n",
            "---------\n",
            "topic_38: \n",
            "контракт\n",
            "коллега\n",
            "переговоры\n",
            "компания\n",
            "сотрудничество\n",
            "агентство\n",
            "отношение\n",
            "дистрибьютор\n",
            "десятка\n",
            "связь\n",
            "---------\n",
            "topic_39: \n",
            "область\n",
            "применение\n",
            "основа\n",
            "вычисление\n",
            "новое\n",
            "достижение\n",
            "использование\n",
            "поколение\n",
            "мощность\n",
            "счёт\n",
            "---------\n",
            "topic_40: \n",
            "сравнение\n",
            "структура\n",
            "оператор\n",
            "реализация\n",
            "поведение\n",
            "образ\n",
            "экземпляр\n",
            "перечисление\n",
            "приведение\n",
            "значение\n",
            "---------\n",
            "topic_41: \n",
            "цель\n",
            "стратегия\n",
            "достижение\n",
            "ценность\n",
            "деятельность\n",
            "действие\n",
            "уровень\n",
            "практика\n",
            "название\n",
            "шаг\n",
            "---------\n",
            "topic_42: \n",
            "анализатор\n",
            "методология\n",
            "качество\n",
            "код\n",
            "диагностика\n",
            "проект\n",
            "диагностик\n",
            "интеграция\n",
            "срабатывание\n",
            "вопрос\n",
            "---------\n",
            "topic_43: \n",
            "фактор\n",
            "рекомендация\n",
            "основа\n",
            "выбор\n",
            "пример\n",
            "задача\n",
            "множество\n",
            "вид\n",
            "большинство\n",
            "подбор\n",
            "---------\n",
            "topic_44: \n",
            "фильм\n",
            "сериал\n",
            "серия\n",
            "сезон\n",
            "друг\n",
            "просмотр\n",
            "актёр\n",
            "сюжет\n",
            "история\n",
            "персонаж\n",
            "---------\n",
            "topic_45: \n",
            "страница\n",
            "часть\n",
            "веб-страница\n",
            "оплата\n",
            "картинка\n",
            "подтверждение\n",
            "внимание\n",
            "возврат\n",
            "ввод\n",
            "попытка\n",
            "---------\n",
            "topic_46: \n",
            "нейрон\n",
            "сигнал\n",
            "образ\n",
            "кора\n",
            "признак\n",
            "активность\n",
            "воспоминание\n",
            "возбуждение\n",
            "механизм\n",
            "рецептор\n",
            "---------\n",
            "topic_47: \n",
            "возраст\n",
            "мышление\n",
            "гипотеза\n",
            "интерпретация\n",
            "внимание\n",
            "шкала\n",
            "психолог\n",
            "психология\n",
            "поведение\n",
            "образ\n",
            "---------\n",
            "topic_48: \n",
            "срок\n",
            "период\n",
            "риска\n",
            "течение\n",
            "окончание\n",
            "учёт\n",
            "объём\n",
            "дата\n",
            "условие\n",
            "момент\n",
            "---------\n",
            "topic_49: \n",
            "исполнение\n",
            "отладка\n",
            "вычисление\n",
            "рефакторинг\n",
            "отладчик\n",
            "структура\n",
            "уровень\n",
            "логика\n",
            "код\n",
            "функция\n",
            "---------\n"
          ],
          "name": "stdout"
        }
      ]
    },
    {
      "metadata": {
        "id": "PWjUsHEIckNI",
        "colab_type": "text"
      },
      "cell_type": "markdown",
      "source": [
        "\n",
        "\n",
        "---\n",
        "\n",
        "# Подведем итоги\n",
        "\n",
        "Я решил не чистить наш текст от самых частотных слов, однако сделал новую обработку текста с токенизацией и удалением стоп-слов из расширенного списка при помощи *stop_words*\n",
        "\n",
        "Работая с  ARTM я в основном менял характеристики:\n",
        "\n",
        "\n",
        "\n",
        "1.   Количество тем\n",
        "2.   SparseTheta\n",
        "3.   SparsePhi\n",
        "\n",
        "Для выравнивания кривой, я повышал количество тем, понижал Phi и повышал \n",
        "\n",
        "**Топ 3 темы, которые мне понравились:**\n",
        "\n",
        "\n",
        "\n"
      ]
    },
    {
      "metadata": {
        "id": "AciT4wRMe3Yp",
        "colab_type": "code",
        "colab": {
          "base_uri": "https://localhost:8080/",
          "height": 629
        },
        "outputId": "f8abf282-a037-4349-fdba-3bdcadf9a79c"
      },
      "cell_type": "code",
      "source": [
        "for topic_name in ['topic_18', 'topic_1', 'topic_8']:\n",
        "    print(topic_name + ': ')\n",
        "    try:\n",
        "        for x in model_artm.score_tracker['TopTokensScore_1'].last_tokens[topic_name]:\n",
        "            print(x)\n",
        "        print('---------')\n",
        "    \n",
        "    except KeyError:\n",
        "        continue\n",
        "  "
      ],
      "execution_count": 160,
      "outputs": [
        {
          "output_type": "stream",
          "text": [
            "topic_18: \n",
            "криптовалюта\n",
            "регулирование\n",
            "коммерция\n",
            "законопроект\n",
            "ассоциация\n",
            "представитель\n",
            "рф\n",
            "поправка\n",
            "отрасль\n",
            "законодательство\n",
            "---------\n",
            "topic_1: \n",
            "кабель\n",
            "адаптер\n",
            "розетка\n",
            "аксессуар\n",
            "провод\n",
            "разъём\n",
            "комплект\n",
            "пара\n",
            "устройство\n",
            "зарядка\n",
            "---------\n",
            "topic_8: \n",
            "доклад\n",
            "конференция\n",
            "спикер\n",
            "выступление\n",
            "докладчик\n",
            "тема\n",
            "вопрос\n",
            "организатор\n",
            "день\n",
            "уровень\n",
            "---------\n"
          ],
          "name": "stdout"
        }
      ]
    }
  ]
}